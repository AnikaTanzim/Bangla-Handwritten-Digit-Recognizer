{
  "nbformat": 4,
  "nbformat_minor": 0,
  "metadata": {
    "colab": {
      "name": "Assignment2_ 160204072_Problem#1.ipynb",
      "provenance": [],
      "collapsed_sections": []
    },
    "kernelspec": {
      "name": "python3",
      "display_name": "Python 3"
    },
    "accelerator": "GPU"
  },
  "cells": [
    {
      "cell_type": "markdown",
      "metadata": {
        "id": "-_WNDMi_khaa"
      },
      "source": [
        "#Problem#1 : Bangla Hand Written Digit Recognizer\r\n",
        "Applying **Neural Network / Deep Neural Network** for the **NumtaDB** dataset and build a multiclass classification model that can recognize `[0-9]` Bengali handwritten digits with different hyperparameter settings. \r\n",
        "##Neural Network / Deep Neural Network:\r\n",
        "When we hear the name Neural Network, we feel that it consist of many and many hidden layers but there is a type of neural network with a few numbers of hidden layers. Shallow neural networks consist of only 1 hidden layer.\r\n",
        "<div align=\"center\">\r\n",
        "<img src=\"https://drive.google.com/uc?id=1XVCMw53tNG8PdhVYoA4Dpds_j4SL8XTl\" width=\"300\">\r\n",
        "</div>\r\n",
        "On the other hand, deep neural networks consist of many hidden layers.\r\n",
        "<div align=\"center\">\r\n",
        "<img src=\"https://drive.google.com/uc?id=1K502pEPXeVQ1eQkQWATNeBpOW7S8ZISj\" width=\"400\">\r\n",
        "\r\n",
        "</div>\r\n",
        "\r\n",
        "\r\n",
        "###Neuron:\r\n",
        "The neuron is the atomic unit of a neural network. Given an input, it provides the output and passes that output as an input to the subsequent layer.A neuron can be thought of as a combination of 2 parts:\r\n",
        "The first part computes the output Z, using the inputs and the weights.\r\n",
        "The second part performs the activation on Z to give out the final output A of the neuron.\r\n",
        "###Hidden Layer:\r\n",
        "The hidden layer comprises of various neurons, each of which performs the above 2 calculations.\r\n",
        "##Dataset: \r\n",
        "One of the key topics of NLP is optical character recognition (OCR). To build an OCR in Bengali language, digit classification provides a convenient starting point. **NumtaDB** s a large dataset (85,000+) of Bengali digits which can be used by researchers for benchmarking their algorithm.\r\n",
        "\r\n",
        "<div align=\"center\">\r\n",
        "<img src=\"https://drive.google.com/uc?id=1LvkNwV1My2RniR_JsbasBET1fa97eMQu\" width=\"400\">\r\n",
        "</div>\r\n",
        "\r\n",
        "**Dataset Link:** https://www.kaggle.com/BengaliAI/numta/\r\n",
        "\r\n",
        "- **input dimension:**\r\n",
        "  - Size of an image: $28 \\times 28 = 784$\r\n",
        "- **output dimension: 10**\r\n",
        "  - 0,1,2,3,4,5,6,7,8,9\r\n",
        "\r\n",
        "\r\n",
        "The steps to implement bangla hand written digit recognizer will be the following:"
      ]
    },
    {
      "cell_type": "markdown",
      "metadata": {
        "id": "e6OwH8tgYERm"
      },
      "source": [
        "##Step#1: Load the dataset\r\n",
        "The NumtaDb dataset is directly loaded from Kaggle. "
      ]
    },
    {
      "cell_type": "code",
      "metadata": {
        "colab": {
          "base_uri": "https://localhost:8080/"
        },
        "id": "MiWWWFdRMadK",
        "outputId": "478f280b-c21b-488f-8225-9732eec7e142"
      },
      "source": [
        "!pip install kaggle\r\n"
      ],
      "execution_count": null,
      "outputs": [
        {
          "output_type": "stream",
          "text": [
            "Requirement already satisfied: kaggle in /usr/local/lib/python3.7/dist-packages (1.5.10)\n",
            "Requirement already satisfied: python-dateutil in /usr/local/lib/python3.7/dist-packages (from kaggle) (2.8.1)\n",
            "Requirement already satisfied: tqdm in /usr/local/lib/python3.7/dist-packages (from kaggle) (4.41.1)\n",
            "Requirement already satisfied: urllib3 in /usr/local/lib/python3.7/dist-packages (from kaggle) (1.24.3)\n",
            "Requirement already satisfied: certifi in /usr/local/lib/python3.7/dist-packages (from kaggle) (2020.12.5)\n",
            "Requirement already satisfied: six>=1.10 in /usr/local/lib/python3.7/dist-packages (from kaggle) (1.15.0)\n",
            "Requirement already satisfied: python-slugify in /usr/local/lib/python3.7/dist-packages (from kaggle) (4.0.1)\n",
            "Requirement already satisfied: requests in /usr/local/lib/python3.7/dist-packages (from kaggle) (2.23.0)\n",
            "Requirement already satisfied: text-unidecode>=1.3 in /usr/local/lib/python3.7/dist-packages (from python-slugify->kaggle) (1.3)\n",
            "Requirement already satisfied: chardet<4,>=3.0.2 in /usr/local/lib/python3.7/dist-packages (from requests->kaggle) (3.0.4)\n",
            "Requirement already satisfied: idna<3,>=2.5 in /usr/local/lib/python3.7/dist-packages (from requests->kaggle) (2.10)\n"
          ],
          "name": "stdout"
        }
      ]
    },
    {
      "cell_type": "code",
      "metadata": {
        "colab": {
          "resources": {
            "http://localhost:8080/nbextensions/google.colab/files.js": {
              "data": "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",
              "ok": true,
              "headers": [
                [
                  "content-type",
                  "application/javascript"
                ]
              ],
              "status": 200,
              "status_text": ""
            }
          },
          "base_uri": "https://localhost:8080/",
          "height": 90
        },
        "id": "FqgGjMywMgK6",
        "outputId": "096dddd0-015a-42d1-d68b-4dc65d5f5659"
      },
      "source": [
        "from google.colab import files\r\n",
        "files.upload()"
      ],
      "execution_count": null,
      "outputs": [
        {
          "output_type": "display_data",
          "data": {
            "text/html": [
              "\n",
              "     <input type=\"file\" id=\"files-db9a364c-5ff5-49f0-a323-8560b63bbf4c\" name=\"files[]\" multiple disabled\n",
              "        style=\"border:none\" />\n",
              "     <output id=\"result-db9a364c-5ff5-49f0-a323-8560b63bbf4c\">\n",
              "      Upload widget is only available when the cell has been executed in the\n",
              "      current browser session. Please rerun this cell to enable.\n",
              "      </output>\n",
              "      <script src=\"/nbextensions/google.colab/files.js\"></script> "
            ],
            "text/plain": [
              "<IPython.core.display.HTML object>"
            ]
          },
          "metadata": {
            "tags": []
          }
        },
        {
          "output_type": "stream",
          "text": [
            "Saving kaggle.json to kaggle.json\n"
          ],
          "name": "stdout"
        },
        {
          "output_type": "execute_result",
          "data": {
            "text/plain": [
              "{'kaggle.json': b'{\"username\":\"anikatanzimaboni\",\"key\":\"13fc7f14dc7fd8e9f087e64c6b2a14f2\"}'}"
            ]
          },
          "metadata": {
            "tags": []
          },
          "execution_count": 2
        }
      ]
    },
    {
      "cell_type": "code",
      "metadata": {
        "id": "zvDmcKgwMkVI"
      },
      "source": [
        "!mkdir -p ~/.kaggle\r\n",
        "!cp kaggle.json ~/.kaggle/\r\n",
        "!chmod 600 ~/.kaggle/kaggle.json # changing permission"
      ],
      "execution_count": null,
      "outputs": []
    },
    {
      "cell_type": "code",
      "metadata": {
        "colab": {
          "base_uri": "https://localhost:8080/"
        },
        "id": "BeGmafr3Mmqr",
        "outputId": "4dc474f5-5e2a-4275-ea7a-0e7af6874b3f"
      },
      "source": [
        "!kaggle datasets download -d BengaliAI/numta"
      ],
      "execution_count": null,
      "outputs": [
        {
          "output_type": "stream",
          "text": [
            "Downloading numta.zip to /content\n",
            "100% 1.91G/1.91G [00:18<00:00, 20.0MB/s]\n",
            "100% 1.91G/1.91G [00:18<00:00, 109MB/s] \n"
          ],
          "name": "stdout"
        }
      ]
    },
    {
      "cell_type": "markdown",
      "metadata": {
        "id": "K0vO1MxUapn0"
      },
      "source": [
        "**numta.zip** file is downloaded from Kaggle directly. After unzipping it, we get the actual dataset."
      ]
    },
    {
      "cell_type": "code",
      "metadata": {
        "colab": {
          "base_uri": "https://localhost:8080/"
        },
        "id": "E6DPCAzqMojT",
        "outputId": "113ce916-36df-4bee-d43d-f2cb6d2b94ba"
      },
      "source": [
        "from zipfile import ZipFile\r\n",
        "f_name= 'numta.zip'\r\n",
        "with ZipFile(f_name,'r') as zip:\r\n",
        "  zip.extractall()\r\n",
        "  print('Done')"
      ],
      "execution_count": null,
      "outputs": [
        {
          "output_type": "stream",
          "text": [
            "Done\n"
          ],
          "name": "stdout"
        }
      ]
    },
    {
      "cell_type": "code",
      "metadata": {
        "id": "8FIC8KTGMpVQ"
      },
      "source": [
        "import torch\r\n",
        "import torch.nn as nn\r\n",
        "import torch.nn.functional as F\r\n",
        "import torchvision\r\n",
        "import torchvision.transforms as transforms\r\n",
        "import torchvision.datasets as dsets\r\n",
        "import os\r\n",
        "from os import path\r\n",
        "import shutil"
      ],
      "execution_count": null,
      "outputs": []
    },
    {
      "cell_type": "markdown",
      "metadata": {
        "id": "MLMDFcFybjl5"
      },
      "source": [
        "In the dataset, the sources are labeled from 'a' to 'e'. The training sets have separate subsets depending on the source of the data (training-a, training-b, etc.) and the details are also in different csv files (training-a.csv, training-b.csv, etc.)"
      ]
    },
    {
      "cell_type": "code",
      "metadata": {
        "id": "xckL9lYrMsrL"
      },
      "source": [
        "def showRawTrainingSamples(csv_filename):\r\n",
        "  df = pd.read_csv(csv_filename)\r\n",
        "  print(csv_filename)\r\n",
        "  print(df.columns)\r\n",
        "  return df"
      ],
      "execution_count": null,
      "outputs": []
    },
    {
      "cell_type": "code",
      "metadata": {
        "colab": {
          "base_uri": "https://localhost:8080/"
        },
        "id": "lKRcPqioMuv2",
        "outputId": "f6b30d12-0df8-42eb-9d0b-cf6532e2e8e6"
      },
      "source": [
        "import pandas as pd\r\n",
        "a_csv = showRawTrainingSamples('training-a.csv')\r\n",
        "b_csv = showRawTrainingSamples('training-b.csv')\r\n",
        "c_csv = showRawTrainingSamples('training-c.csv')\r\n",
        "d_csv = showRawTrainingSamples('training-d.csv')\r\n",
        "e_csv = showRawTrainingSamples('training-e.csv')"
      ],
      "execution_count": null,
      "outputs": [
        {
          "output_type": "stream",
          "text": [
            "training-a.csv\n",
            "Index(['filename', 'original filename', 'scanid', 'digit',\n",
            "       'database name original', 'contributing team', 'database name'],\n",
            "      dtype='object')\n",
            "training-b.csv\n",
            "Index(['filename', 'original filename', 'scanid', 'digit',\n",
            "       'database name original', 'contributing team', 'database name'],\n",
            "      dtype='object')\n",
            "training-c.csv\n",
            "Index(['filename', 'original filename', 'scanid', 'digit',\n",
            "       'database name original', 'contributing team', 'database name'],\n",
            "      dtype='object')\n",
            "training-d.csv\n",
            "Index(['original filename', 'scanid', 'digit', 'num', 'database name original',\n",
            "       'database name', 'filename'],\n",
            "      dtype='object')\n",
            "training-e.csv\n",
            "Index(['filename', 'original filename', 'districtid', 'institutionid',\n",
            "       'gender', 'age', 'datestamp', 'scanid', 'digit',\n",
            "       'database name original', 'database name'],\n",
            "      dtype='object')\n"
          ],
          "name": "stdout"
        }
      ]
    },
    {
      "cell_type": "markdown",
      "metadata": {
        "id": "SDgXoReRchq7"
      },
      "source": [
        "From the csv files, we only need the information of the file names and their labels which column names are '**filename**' and '**digit**' respectively. So we truncate the data."
      ]
    },
    {
      "cell_type": "code",
      "metadata": {
        "id": "kOtcaSwPM2ia"
      },
      "source": [
        "def truncateColumns(csv_file):\r\n",
        "  csv_file = csv_file[['filename', 'digit']]\r\n",
        "  print('Done')\r\n",
        "  return csv_file"
      ],
      "execution_count": null,
      "outputs": []
    },
    {
      "cell_type": "code",
      "metadata": {
        "colab": {
          "base_uri": "https://localhost:8080/"
        },
        "id": "xK5-jdC6M9BH",
        "outputId": "992d5056-afe6-4a40-fd24-01934d42cc7b"
      },
      "source": [
        "a_csv = truncateColumns(a_csv)\r\n",
        "b_csv = truncateColumns(b_csv)\r\n",
        "c_csv = truncateColumns(c_csv)\r\n",
        "d_csv = truncateColumns(d_csv)\r\n",
        "e_csv = truncateColumns(e_csv)"
      ],
      "execution_count": null,
      "outputs": [
        {
          "output_type": "stream",
          "text": [
            "Done\n",
            "Done\n",
            "Done\n",
            "Done\n",
            "Done\n"
          ],
          "name": "stdout"
        }
      ]
    },
    {
      "cell_type": "markdown",
      "metadata": {
        "id": "5RHyPFxBdF1s"
      },
      "source": [
        "All the csv files are merged into one for further process. So, in total, there are 72045 data for training and testing the model."
      ]
    },
    {
      "cell_type": "code",
      "metadata": {
        "colab": {
          "base_uri": "https://localhost:8080/"
        },
        "id": "DlcSqyudNCbr",
        "outputId": "98831ac2-1567-4e8a-cfab-ad22ebe27fa7"
      },
      "source": [
        "total_csv = [a_csv,b_csv,c_csv,d_csv,e_csv]\r\n",
        "merged_csv = pd.concat(total_csv)\r\n",
        "print(len(merged_csv))"
      ],
      "execution_count": null,
      "outputs": [
        {
          "output_type": "stream",
          "text": [
            "72045\n"
          ],
          "name": "stdout"
        }
      ]
    },
    {
      "cell_type": "markdown",
      "metadata": {
        "id": "ZbdVEKc0dyle"
      },
      "source": [
        "Similarly, all  the images from different directory are merged into one directory named \"**trainAll2**\"."
      ]
    },
    {
      "cell_type": "code",
      "metadata": {
        "id": "sYAcFesHNIot"
      },
      "source": [
        "TRAIN_PATH = 'trainALL2'\r\n",
        "os.mkdir(TRAIN_PATH) #creating the directory\r\n",
        "\r\n",
        "def processImages(folder_name):\r\n",
        "  src = folder_name + '/'\r\n",
        "  dir_folders = os.listdir(src)\r\n",
        "  for dir_name in dir_folders:\r\n",
        "    file_name = os.path.join(src, dir_name)\r\n",
        "    if os.path.isfile(file_name):\r\n",
        "      shutil.copy(file_name, TRAIN_PATH) #images are copied to trainAll2\r\n"
      ],
      "execution_count": null,
      "outputs": []
    },
    {
      "cell_type": "code",
      "metadata": {
        "colab": {
          "base_uri": "https://localhost:8080/"
        },
        "id": "VgCm3-QfNeGq",
        "outputId": "644aa3a7-fec0-4a45-e7b2-859a66e366c5"
      },
      "source": [
        "\r\n",
        "processImages('training-a')\r\n",
        "print('A Done')\r\n",
        "processImages('training-c')\r\n",
        "print('C Done')\r\n",
        "processImages('training-d')\r\n",
        "print('D Done')"
      ],
      "execution_count": null,
      "outputs": [
        {
          "output_type": "stream",
          "text": [
            "A Done\n",
            "C Done\n",
            "D Done\n"
          ],
          "name": "stdout"
        }
      ]
    },
    {
      "cell_type": "code",
      "metadata": {
        "colab": {
          "base_uri": "https://localhost:8080/"
        },
        "id": "DNxm5eLMPXgS",
        "outputId": "99b381e2-d403-4d13-bcc6-cb4b8430ea6e"
      },
      "source": [
        "processImages('training-b')\r\n",
        "print('B Done')\r\n",
        "processImages('training-e')\r\n",
        "print('E Done')"
      ],
      "execution_count": null,
      "outputs": [
        {
          "output_type": "stream",
          "text": [
            "B Done\n",
            "E Done\n"
          ],
          "name": "stdout"
        }
      ]
    },
    {
      "cell_type": "markdown",
      "metadata": {
        "id": "lGbee_4be8i4"
      },
      "source": [
        "##Step#2: Prepare (augment) the dataset\r\n",
        "The loaded dataset is still non trival. PyTorch provides many tools to make data loading easy and hopefully, to make the code more readable. \r\n"
      ]
    },
    {
      "cell_type": "code",
      "metadata": {
        "id": "IINdrHAbNjEh"
      },
      "source": [
        "import torch.optim as optim\r\n",
        "from torch.utils.data import Dataset\r\n",
        "from torch.utils.data.sampler import SubsetRandomSampler\r\n",
        "from torchvision import datasets, transforms, models\r\n",
        "import matplotlib\r\n",
        "import matplotlib.pyplot as plt\r\n",
        "from PIL import Image"
      ],
      "execution_count": null,
      "outputs": []
    },
    {
      "cell_type": "markdown",
      "metadata": {
        "id": "j7MJADC8e7S4"
      },
      "source": [
        "###Custom Dataset Class\r\n",
        "\r\n",
        "**`torch.utils.data.Dataset`** is an abstract class representing a dataset. To prepare the dataset, we need a **custom Dataset Class**. Our custom dataset should inherit Dataset and override the following methods:\r\n",
        "\r\n",
        "- **`__len__`** so that len(dataset) returns the size of our dataset.\r\n",
        "\r\n",
        "- **`__getitem__`** to support the indexing such that dataset[i] can be used to get ith sample. \r\n",
        "We will read the csv in` __init__` but leave the reading of images to `__getitem__`.\r\n"
      ]
    },
    {
      "cell_type": "code",
      "metadata": {
        "id": "m7VVgtENNnm1"
      },
      "source": [
        "class Dataset(Dataset):\r\n",
        "    def __init__(self, df, root, transform=None):\r\n",
        "        self.data = df\r\n",
        "        self.root = root\r\n",
        "        self.transform = transform\r\n",
        "\r\n",
        "        \"\"\"\r\n",
        "            df : Path to the csv file with annotations.\r\n",
        "            root : Directory with all the images.\r\n",
        "            transform : Optional transform to be appliedon a sample.\r\n",
        "        \"\"\"\r\n",
        "        \r\n",
        "    def __len__(self):\r\n",
        "        return len(self.data)\r\n",
        "    \r\n",
        "    def __getitem__(self, index):\r\n",
        "        item = self.data.iloc[index]\r\n",
        "        \r\n",
        "        path = self.root + \"/\" + item[0]\r\n",
        "        image = Image.open(path).convert('L')\r\n",
        "        label = item[1]\r\n",
        "        \r\n",
        "        if self.transform is not None:\r\n",
        "            image = self.transform(image)\r\n",
        "            \r\n",
        "        return image, label"
      ],
      "execution_count": null,
      "outputs": []
    },
    {
      "cell_type": "markdown",
      "metadata": {
        "id": "QfXjh9nBnICj"
      },
      "source": [
        "###Compose Transforms\r\n",
        "The samples are not of the same size. Our model expect the images of a fixed size. `torchvision.transforms.Compose` is a simple callable class which allows us to do this.\r\n",
        "\r\n",
        "- **Resize((28,28))** resize/crop the image to 28*28 dimension\r\n",
        "- **ToTensor()** takes a PIL image (or np.int8 NumPy array) with shape (n_rows, n_cols, n_channels) as input and returns a PyTorch tensor with floats between 0 and 1 and shape (n_channels, n_rows, n_cols).\r\n",
        "- **Normalize(mean,std)** subtracts the mean and divides by the standard deviation of the floating point values in the range [0, 1].\r\n",
        "- As mean =0.5 and std =0.5, an image is normalized to [-1,1] here."
      ]
    },
    {
      "cell_type": "code",
      "metadata": {
        "colab": {
          "base_uri": "https://localhost:8080/"
        },
        "id": "5S5Q-GVnNq70",
        "outputId": "13c95a87-922e-433b-91a1-ac5e28d98ff4"
      },
      "source": [
        "mean = [0.5,]\r\n",
        "std = [0.5, ]\r\n",
        "\r\n",
        "train_transform = transforms.Compose([\r\n",
        "    transforms.Resize((28,28)),\r\n",
        "    transforms.ToTensor(),\r\n",
        "    transforms.Normalize(mean, std)\r\n",
        "])\r\n",
        "\r\n",
        "test_transform = transforms.Compose([\r\n",
        "        transforms.Resize((28,28)),\r\n",
        "        transforms.ToTensor(),\r\n",
        "        transforms.Normalize(mean, std)\r\n",
        "])\r\n",
        "\r\n",
        "'''Instantiate the Dataset Class'''\r\n",
        "train_dataset  = Dataset(merged_csv, TRAIN_PATH, train_transform)\r\n",
        "test_dataset = Dataset(merged_csv, TRAIN_PATH, test_transform)\r\n",
        "\r\n",
        "print(\"Trainig Samples: \",len(train_dataset))"
      ],
      "execution_count": null,
      "outputs": [
        {
          "output_type": "stream",
          "text": [
            "Trainig Samples:  72045\n"
          ],
          "name": "stdout"
        }
      ]
    },
    {
      "cell_type": "markdown",
      "metadata": {
        "id": "3jC6SZr8jLTl"
      },
      "source": [
        "##step#3 : Make Data Iterable\r\n",
        "- We split the training set to 90% and test set to 10%. That means a 90:10 ratio. To split the data we have used **`torch.utils.data.sampler`** class.\r\n",
        "- We will use the **DataLoader** class to make our dataset iterable. "
      ]
    },
    {
      "cell_type": "code",
      "metadata": {
        "colab": {
          "base_uri": "https://localhost:8080/"
        },
        "id": "5dW5cPFvNsCv",
        "outputId": "043fa782-975f-48e5-b6d6-2320013edcfb"
      },
      "source": [
        "import numpy as np\r\n",
        "#batch size\r\n",
        "\r\n",
        "#batch_size = 32\r\n",
        "batch_size = 64\r\n",
        "\r\n",
        "# split data 10% for testing\r\n",
        "test_size = 0.1\r\n",
        "\r\n",
        "# obtain training indices that will be used for validation\r\n",
        "len_train = len(train_dataset)\r\n",
        "\r\n",
        "# mix data\r\n",
        "# index of num of train\r\n",
        "indices = list(range(len_train))\r\n",
        "# random the index\r\n",
        "np.random.shuffle(indices)\r\n",
        "split = int(np.floor(test_size * len_train))\r\n",
        "# divied into two part\r\n",
        "train_idx, test_idx = indices[split:], indices[:split]\r\n",
        "\r\n",
        "# define the sampler\r\n",
        "train_sampler = SubsetRandomSampler(train_idx)\r\n",
        "test_sampler = SubsetRandomSampler(test_idx)\r\n",
        "\r\n",
        "# prepare loaders\r\n",
        "train_loader = torch.utils.data.DataLoader(\r\n",
        "    train_dataset, batch_size=batch_size,\r\n",
        "    sampler=train_sampler) #No need to shuffle here, because sampler has shuffled data already\r\n",
        "\r\n",
        "test_loader = torch.utils.data.DataLoader(\r\n",
        "    test_dataset, batch_size=batch_size,\r\n",
        "    sampler=test_sampler)\r\n",
        "\r\n",
        "print(\"Train dataloader:{}\".format(len(train_loader)))\r\n",
        "print(\"Test dataloader:{}\".format(len(test_loader)))"
      ],
      "execution_count": null,
      "outputs": [
        {
          "output_type": "stream",
          "text": [
            "Train dataloader:1014\n",
            "Test dataloader:113\n"
          ],
          "name": "stdout"
        }
      ]
    },
    {
      "cell_type": "markdown",
      "metadata": {
        "id": "NbL34xd2rcNU"
      },
      "source": [
        "Showing the information of one sample data and the images:"
      ]
    },
    {
      "cell_type": "code",
      "metadata": {
        "colab": {
          "base_uri": "https://localhost:8080/"
        },
        "id": "2OG10yNrNzg-",
        "outputId": "6eb509f6-974a-4a7f-c1f1-a3cfccdce74c"
      },
      "source": [
        "'''Informations of one sample data'''\r\n",
        "# One Image Size\r\n",
        "print(train_dataset[22][0].size())\r\n",
        "print(train_dataset[22][0].numpy().shape)\r\n",
        "# First Image Label\r\n",
        "print(train_dataset[22][1])"
      ],
      "execution_count": null,
      "outputs": [
        {
          "output_type": "stream",
          "text": [
            "torch.Size([1, 28, 28])\n",
            "(1, 28, 28)\n",
            "6\n"
          ],
          "name": "stdout"
        }
      ]
    },
    {
      "cell_type": "code",
      "metadata": {
        "id": "drxPZf7eN09N",
        "colab": {
          "base_uri": "https://localhost:8080/",
          "height": 315
        },
        "outputId": "adcf24b8-5678-41ce-85d4-9dd329ef2d8b"
      },
      "source": [
        "import matplotlib.pyplot as plt \r\n",
        "import numpy as np\r\n",
        "\r\n",
        "print(\"Label:\")\r\n",
        "print(train_dataset[0][1])\r\n",
        "show_img = train_dataset[0][0].numpy().reshape(28, 28)\r\n",
        "plt.imshow(show_img, cmap='gray')"
      ],
      "execution_count": null,
      "outputs": [
        {
          "output_type": "stream",
          "text": [
            "Label:\n",
            "5\n"
          ],
          "name": "stdout"
        },
        {
          "output_type": "execute_result",
          "data": {
            "text/plain": [
              "<matplotlib.image.AxesImage at 0x7f5dccc4ac90>"
            ]
          },
          "metadata": {
            "tags": []
          },
          "execution_count": 20
        },
        {
          "output_type": "display_data",
          "data": {
            "image/png": "[encoded data removed]",
            "text/plain": [
              "<Figure size 432x288 with 1 Axes>"
            ]
          },
          "metadata": {
            "tags": [],
            "needs_background": "light"
          }
        }
      ]
    },
    {
      "cell_type": "code",
      "metadata": {
        "id": "hG6pOOoCN8KV",
        "colab": {
          "base_uri": "https://localhost:8080/",
          "height": 315
        },
        "outputId": "72c7ef89-828c-456e-d8e0-a628ca096973"
      },
      "source": [
        "print(\"Label:\")\r\n",
        "print(train_dataset[201][1])\r\n",
        "\r\n",
        "show_img = train_dataset[201][0].numpy().reshape(28, 28)\r\n",
        "plt.imshow(show_img, cmap='gray')"
      ],
      "execution_count": null,
      "outputs": [
        {
          "output_type": "stream",
          "text": [
            "Label:\n",
            "5\n"
          ],
          "name": "stdout"
        },
        {
          "output_type": "execute_result",
          "data": {
            "text/plain": [
              "<matplotlib.image.AxesImage at 0x7f5dccb2ffd0>"
            ]
          },
          "metadata": {
            "tags": []
          },
          "execution_count": 21
        },
        {
          "output_type": "display_data",
          "data": {
            "image/png": "[encoded data removed]",
            "text/plain": [
              "<Figure size 432x288 with 1 Axes>"
            ]
          },
          "metadata": {
            "tags": [],
            "needs_background": "light"
          }
        }
      ]
    },
    {
      "cell_type": "markdown",
      "metadata": {
        "id": "fQ1mTWu8rxn2"
      },
      "source": [
        "##Step#4: Create the Model Class\r\n",
        "\r\n",
        "In order to set up the model class, we need to initialize the model type and declare the forward pass. \r\n",
        "\r\n",
        "We initialize our model with this linear layer: **`torch.nn.Linear(input_size, num_classes)`** which\r\n",
        "applies a linear transformation to the incoming data:  $y=W^T∗x+b$.\r\n",
        "\r\n",
        "Parameters:\r\n",
        "\r\n",
        "- input_size – size of each input sample (i.e. size of x)\r\n",
        "- num_classes – size of each output sample (i.e. size of y)\r\n",
        "- bias – If set to False, the layer will not learn an additive bias. Default: True\r\n",
        "\r\n",
        "In this setting, We have initiliazed our model with one hidden layer. And in the hdden layer we have used **ReLu** as activation fuction. It Applies the rectified linear unit function element-wise:\r\n",
        "\r\n",
        "$\\text{ReLU}(x) = (x)^+ = \\max(0, x) $\r\n",
        "\r\n",
        "<div align=\"center\">\r\n",
        "<img src=\"https://drive.google.com/uc?id=1wKFWSYXY7leTqAxoeKBtpyMtJCqEF1bs\" width=\"500\">\r\n",
        "</div>\r\n",
        "\r\n",
        "Next is to define the forward pass function. The forward pass refers to the calculation process of the output data from the input. \r\n",
        "\r\n",
        "\r\n",
        "\r\n",
        "The complete model class is defined below:"
      ]
    },
    {
      "cell_type": "code",
      "metadata": {
        "id": "zGQzrGu7OACr"
      },
      "source": [
        "####one hidden layer with relu activation\r\n",
        "\r\n",
        "class NeuralNetworkModel(nn.Module):\r\n",
        "    def __init__(self, input_size, num_classes, num_hidden):\r\n",
        "        super().__init__()\r\n",
        "        ### 1st hidden layer\r\n",
        "        self.linear_1 = nn.Linear(input_size, num_hidden)\r\n",
        "\r\n",
        "        ### Non-linearity\r\n",
        "        self.relu = nn.ReLU()\r\n",
        "\r\n",
        "        ### Output layer\r\n",
        "        self.linear_out = nn.Linear(num_hidden, num_classes)\r\n",
        "\r\n",
        "    def forward(self, x):\r\n",
        "        # Linear layer\r\n",
        "        out  = self.linear_1(x)\r\n",
        "        # Non-linearity\r\n",
        "        out = self.relu(out)\r\n",
        "        # Linear layer (output)\r\n",
        "        probas  = self.linear_out(out)\r\n",
        "        return probas\r\n"
      ],
      "execution_count": null,
      "outputs": []
    },
    {
      "cell_type": "markdown",
      "metadata": {
        "id": "XaNiXpgfsMXH"
      },
      "source": [
        "##Step#5:Instantiate the Model Class\r\n",
        "\r\n",
        "####**Modelparameter:**\r\n",
        "Model parameters are learned during training when we optimize a loss function using something like gradient descent.\r\n",
        "\r\n",
        "####**Hyperparameter:**\r\n",
        "Parameters which define the model architecture are referred to as hyperparameters. Hyperparameters are not model parameters and they cannot be directly trained from the data. \r\n",
        "These values are fixed before the training of the data begins. They deal with parameters such as learning_rate,num_iters etc.\r\n",
        "\r\n",
        "- **learning_rate**: How quickly the model should be able to learn, how complicated the model is, and so on. \r\n",
        "- **num_iters**: It is used to specify the number of combinations that are randomly tried. If num_iters is too less, finding the best combination is difficult, and if num_iters is too large, the processing time increases. It is important to find a balanced value for ‘n_iter’.\r\n",
        "  - **1 iteration**: One mini-batch forward & backward pass. That means a parameter (wights and biases) update. \r\n",
        "- **minibatch**:  Number of examples in 1 iteration\r\n",
        "- **epochs**: How many times we are running the dataset\r\n",
        "\r\n",
        "  - **1 epoch**: Running through the whole dataset once\r\n",
        "- **num_hiddden**: number of nodes in a hidden layer. It can vary in every hidden layer.\r\n",
        "\r\n",
        "Before instantiation, we’ll initialize some hyperparameters like following."
      ]
    },
    {
      "cell_type": "code",
      "metadata": {
        "id": "3ZkoEr4OOA5K"
      },
      "source": [
        "# Hyperparameters\r\n",
        "\r\n",
        "batch_size = 32\r\n",
        "num_iters = 16000\r\n",
        "input_dim = 28*28 # num_features = 784\r\n",
        "num_hidden = 100\r\n",
        "output_dim = 10\r\n",
        "\r\n",
        "learning_rate = 0.1\r\n",
        "# Device\r\n",
        "device = torch.device(\"cuda:0\" if torch.cuda.is_available() else \"cpu\")\r\n"
      ],
      "execution_count": null,
      "outputs": []
    },
    {
      "cell_type": "markdown",
      "metadata": {
        "id": "ES9AWVs81-rJ"
      },
      "source": [
        "Instantiating the model class and enabling GPU:"
      ]
    },
    {
      "cell_type": "code",
      "metadata": {
        "colab": {
          "base_uri": "https://localhost:8080/"
        },
        "id": "C-NgN0ajODGj",
        "outputId": "1241231c-d2cc-4a39-c1e2-ef79b424519b"
      },
      "source": [
        "model = NeuralNetworkModel(input_size = input_dim,\r\n",
        "                           num_classes = output_dim,\r\n",
        "                           num_hidden = num_hidden)\r\n",
        "# To enable GPU\r\n",
        "model.to(device)"
      ],
      "execution_count": null,
      "outputs": [
        {
          "output_type": "execute_result",
          "data": {
            "text/plain": [
              "NeuralNetworkModel(\n",
              "  (linear_1): Linear(in_features=784, out_features=100, bias=True)\n",
              "  (relu): ReLU()\n",
              "  (linear_out): Linear(in_features=100, out_features=10, bias=True)\n",
              ")"
            ]
          },
          "metadata": {
            "tags": []
          },
          "execution_count": 31
        }
      ]
    },
    {
      "cell_type": "markdown",
      "metadata": {
        "id": "hOq4vhoIsTPP"
      },
      "source": [
        "##Step#6: Construct loss and optimizer (select from PyTorch API)\r\n",
        "\r\n",
        "We need **Cross Entropy Loss** to calculate our loss before we backpropagate and update our parameters.\r\n",
        "\r\n",
        "`criterion = nn.CrossEntropyLoss() ` \r\n",
        "\r\n",
        "Here we used **Stochastic gradient descent(SGD)** as our optimizer that makes forward and backward propagation for every record.  Although there are different optimizers SGD can work well for our model."
      ]
    },
    {
      "cell_type": "code",
      "metadata": {
        "id": "5zu3RP73OHHR"
      },
      "source": [
        "# INSTANTIATE OPTIMIZER CLASS\r\n",
        "criterion = nn.CrossEntropyLoss()\r\n",
        "optimizer = torch.optim.SGD(model.parameters(), lr=learning_rate)"
      ],
      "execution_count": null,
      "outputs": []
    },
    {
      "cell_type": "markdown",
      "metadata": {
        "id": "bEgrNNRc4Sn5"
      },
      "source": [
        "##Step #7 : Training: forward, loss, backward, step\r\n",
        "\r\n",
        "\r\n",
        "\r\n",
        "\r\n",
        "  \r\n",
        "\r\n"
      ]
    },
    {
      "cell_type": "markdown",
      "metadata": {
        "id": "AlRbcIvIAAxO"
      },
      "source": [
        "\r\n",
        "- Calling `.backward()` mutiple times accumulates the gradient (**by addition**) for each parameter. \r\n",
        "\r\n",
        "- This is why you should call `optimizer.zero_grad()` after each .step() call. \r\n",
        "\r\n",
        "- Note that following the first `.backward` call, a second call is only possible after you have performed another **forward pass**.\r\n",
        "\r\n",
        "- `optimizer.step` performs a parameter update based on the current gradient (**stored in .grad attribute of a parameter**)\r\n",
        "\r\n",
        "Simplified equation:\r\n",
        "\r\n",
        "- `parameters = parameters - learning_rate * parameters_gradients`\r\n",
        "- parameters $W$ and $b$ in ($y = W^T * x + b$)\r\n",
        "- $\\theta = \\theta - \\eta \\cdot \\nabla_\\theta$  [ General parameter $\\theta$ ]\r\n",
        "  *  $\\theta$ : parameters (our variables)\r\n",
        "  *  $\\eta$ : learning rate (how fast we want to learn)\r\n",
        "  *  $\\nabla_\\theta$ : parameters' gradients"
      ]
    },
    {
      "cell_type": "markdown",
      "metadata": {
        "id": "E6awpyoCAzjA"
      },
      "source": [
        "\r\n",
        "\r\n",
        "###Setting 1: One Layer Neural Network with ReLU Activation (Accuracy 52.51%)\r\n",
        "**batch =32,iteration = 16000, learning rate=0.1, nodes per hidden layer= 100**\r\n",
        "\r\n",
        "\r\n",
        "\r\n",
        "\r\n"
      ]
    },
    {
      "cell_type": "code",
      "metadata": {
        "id": "C6Yn9UC1OJJ8",
        "colab": {
          "base_uri": "https://localhost:8080/"
        },
        "outputId": "7db33bb4-6247-480b-88aa-2da87572ac48"
      },
      "source": [
        "'''\r\n",
        "TRAIN THE MODEL\r\n",
        "'''\r\n",
        "num_epochs = num_iters / (len(train_dataset) / batch_size)\r\n",
        "num_epochs = int(num_epochs)\r\n",
        "print(num_epochs)\r\n",
        "iteration_loss = []\r\n",
        "\r\n",
        "iter = 0\r\n",
        "for epoch in range(num_epochs):\r\n",
        "    for i, (images, labels) in enumerate(train_loader):\r\n",
        "\r\n",
        "        images = images.view(-1, 28*28).to(device)\r\n",
        "        labels = labels.to(device)\r\n",
        "\r\n",
        "        # Clear gradients w.r.t. parameters\r\n",
        "        optimizer.zero_grad()\r\n",
        "\r\n",
        "        # Forward pass to get output/logits\r\n",
        "        outputs = model(images) \r\n",
        "\r\n",
        "        # Calculate Loss: softmax --> cross entropy loss\r\n",
        "        loss = criterion(outputs, labels)\r\n",
        "\r\n",
        "        # Getting gradients w.r.t. parameters\r\n",
        "        loss.backward()\r\n",
        "\r\n",
        "        # Updating parameters\r\n",
        "        optimizer.step()\r\n",
        "\r\n",
        "        iter += 1\r\n",
        "\r\n",
        "        if iter % 500 == 0:\r\n",
        "            # Calculate Accuracy         \r\n",
        "            correct = 0\r\n",
        "            total = 0\r\n",
        "            # Iterate through test dataset\r\n",
        "            for images, labels in test_loader:\r\n",
        "               \r\n",
        "                images = images.view(-1, 28*28).to(device)\r\n",
        "\r\n",
        "                # Forward pass only to get logits/output\r\n",
        "                outputs = model(images)\r\n",
        "\r\n",
        "                # Get predictions from the maximum value\r\n",
        "                _, predicted = torch.max(outputs, 1)\r\n",
        "\r\n",
        "                # Total number of labels\r\n",
        "                total += labels.size(0)\r\n",
        "\r\n",
        "\r\n",
        "                # Total correct predictions\r\n",
        "                if torch.cuda.is_available():\r\n",
        "                    correct += (predicted.cpu() == labels.cpu()).sum() \r\n",
        "                else:\r\n",
        "                    correct += (predicted == labels).sum()\r\n",
        "\r\n",
        "            accuracy = 100 * correct.item() / total\r\n",
        "\r\n",
        "            # Print Loss\r\n",
        "            print('Iteration: {}. Loss: {}. Accuracy: {}'.format(iter, loss.item(), accuracy))"
      ],
      "execution_count": null,
      "outputs": [
        {
          "output_type": "stream",
          "text": [
            "7\n",
            "Iteration: 500. Loss: 1.861427903175354. Accuracy: 27.85952248750694\n",
            "Iteration: 1000. Loss: 2.025313138961792. Accuracy: 27.942809550249862\n",
            "Iteration: 1500. Loss: 1.9924695491790771. Accuracy: 28.206551915602443\n",
            "Iteration: 2000. Loss: 1.7892346382141113. Accuracy: 29.44197667962243\n",
            "Iteration: 2500. Loss: 1.928159475326538. Accuracy: 32.662409772348695\n",
            "Iteration: 3000. Loss: 2.1574325561523438. Accuracy: 34.14769572459745\n",
            "Iteration: 3500. Loss: 1.7301126718521118. Accuracy: 32.648528595224874\n",
            "Iteration: 4000. Loss: 1.527727484703064. Accuracy: 35.20266518600777\n",
            "Iteration: 4500. Loss: 1.700987696647644. Accuracy: 28.345363686840646\n",
            "Iteration: 5000. Loss: 1.4726285934448242. Accuracy: 31.82953914491949\n",
            "Iteration: 5500. Loss: 1.6808249950408936. Accuracy: 39.519711271515824\n",
            "Iteration: 6000. Loss: 1.8053841590881348. Accuracy: 33.24541921154914\n",
            "Iteration: 6500. Loss: 1.5471291542053223. Accuracy: 35.82731815657968\n",
            "Iteration: 7000. Loss: 1.4173548221588135. Accuracy: 40.56079955580233\n",
            "Iteration: 7500. Loss: 1.6715525388717651. Accuracy: 39.56135480288729\n",
            "Iteration: 8000. Loss: 1.6161842346191406. Accuracy: 35.89672404219878\n",
            "Iteration: 8500. Loss: 1.7833518981933594. Accuracy: 40.53303720155469\n",
            "Iteration: 9000. Loss: 1.6306277513504028. Accuracy: 37.20155469183787\n",
            "Iteration: 9500. Loss: 1.7006288766860962. Accuracy: 37.67351471404775\n",
            "Iteration: 10000. Loss: 1.9091105461120605. Accuracy: 40.18600777345919\n",
            "Iteration: 10500. Loss: 1.6433558464050293. Accuracy: 45.30816213214881\n",
            "Iteration: 11000. Loss: 1.8610382080078125. Accuracy: 44.65574680732926\n",
            "Iteration: 11500. Loss: 1.3448554277420044. Accuracy: 48.50083287062743\n",
            "Iteration: 12000. Loss: 1.6404788494110107. Accuracy: 40.71349250416435\n",
            "Iteration: 12500. Loss: 1.5545399188995361. Accuracy: 42.434758467518044\n",
            "Iteration: 13000. Loss: 2.0921754837036133. Accuracy: 45.62742920599667\n",
            "Iteration: 13500. Loss: 1.5571677684783936. Accuracy: 49.45863409217102\n",
            "Iteration: 14000. Loss: 1.5813096761703491. Accuracy: 52.51249305941144\n"
          ],
          "name": "stdout"
        }
      ]
    },
    {
      "cell_type": "code",
      "metadata": {
        "id": "ESecyXUHhCa8",
        "colab": {
          "base_uri": "https://localhost:8080/"
        },
        "outputId": "993f4867-ef44-4719-f23a-cf4dd9da0ab0"
      },
      "source": [
        "print(len(train_dataset))\r\n",
        "print('Iteration: {}. Loss: {}. Accuracy: {}'.format(iter, loss.item(), accuracy))"
      ],
      "execution_count": null,
      "outputs": [
        {
          "output_type": "stream",
          "text": [
            "72045\n",
            "Iteration: 14189. Loss: 1.6792848110198975. Accuracy: 52.51249305941144\n"
          ],
          "name": "stdout"
        }
      ]
    },
    {
      "cell_type": "markdown",
      "metadata": {
        "id": "2AP2WLzE_5vh"
      },
      "source": [
        "#### Plot of predicted and actual values"
      ]
    },
    {
      "cell_type": "code",
      "metadata": {
        "colab": {
          "base_uri": "https://localhost:8080/",
          "height": 316
        },
        "id": "RTpkU-xoOLTh",
        "outputId": "e81a5980-0603-4f0b-e2e7-a096cc464e10"
      },
      "source": [
        "import matplotlib\r\n",
        "import matplotlib.pyplot as plt\r\n",
        "iteration_loss=[1.861427903175354,2.025313138961792,1.9924695491790771,1.7892346382141113,1.928159475326538,2.1574325561523438,1.7301126718521118,1.527727484703064,1.700987696647644,1.4726285934448242,1.6808249950408936,1.8053841590881348,1.5471291542053223,1.4173548221588135,1.6715525388717651,1.6161842346191406,1.7833518981933594,1.6306277513504028,1.7006288766860962,1.9091105461120605,1.6433558464050293,1.8610382080078125,1.3448554277420044,1.6404788494110107,1.5545399188995361,2.0921754837036133,1.5571677684783936,1.5813096761703491]\r\n",
        "print (iteration_loss)\r\n",
        "plt.plot(iteration_loss)\r\n",
        "plt.ylabel('Cross Entropy Loss')\r\n",
        "plt.xlabel('Iteration (in every 500)')\r\n",
        "plt.show()"
      ],
      "execution_count": null,
      "outputs": [
        {
          "output_type": "stream",
          "text": [
            "[1.861427903175354, 2.025313138961792, 1.9924695491790771, 1.7892346382141113, 1.928159475326538, 2.1574325561523438, 1.7301126718521118, 1.527727484703064, 1.700987696647644, 1.4726285934448242, 1.6808249950408936, 1.8053841590881348, 1.5471291542053223, 1.4173548221588135, 1.6715525388717651, 1.6161842346191406, 1.7833518981933594, 1.6306277513504028, 1.7006288766860962, 1.9091105461120605, 1.6433558464050293, 1.8610382080078125, 1.3448554277420044, 1.6404788494110107, 1.5545399188995361, 2.0921754837036133, 1.5571677684783936, 1.5813096761703491]\n"
          ],
          "name": "stdout"
        },
        {
          "output_type": "display_data",
          "data": {
            "image/png": "[encoded data removed]",
            "text/plain": [
              "<Figure size 432x288 with 1 Axes>"
            ]
          },
          "metadata": {
            "tags": [],
            "needs_background": "light"
          }
        }
      ]
    },
    {
      "cell_type": "code",
      "metadata": {
        "colab": {
          "base_uri": "https://localhost:8080/"
        },
        "id": "25nTTp0aOSCk",
        "outputId": "fa9a66b5-d2b9-4631-93d9-112d9f58e4d3"
      },
      "source": [
        "from google.colab import drive\r\n",
        "\r\n",
        "drive.mount('/content/gdrive')\r\n",
        "\r\n",
        "root_path = '/content/gdrive/My Drive/Soft Computing/'"
      ],
      "execution_count": null,
      "outputs": [
        {
          "output_type": "stream",
          "text": [
            "Mounted at /content/gdrive\n"
          ],
          "name": "stdout"
        }
      ]
    },
    {
      "cell_type": "markdown",
      "metadata": {
        "id": "rxuRKpw3BPyz"
      },
      "source": [
        "#### Saving Model to Directory"
      ]
    },
    {
      "cell_type": "code",
      "metadata": {
        "id": "Dx1MMojhOUQ7"
      },
      "source": [
        "import pickle\r\n",
        "save_model = True\r\n",
        "\r\n",
        "\r\n",
        "if save_model is True:\r\n",
        "    # Saves only parameters\r\n",
        "    # wights & biases\r\n",
        "    torch.save(model.state_dict(), root_path + 'A2_Problem1_setting1.pkl') "
      ],
      "execution_count": null,
      "outputs": []
    },
    {
      "cell_type": "markdown",
      "metadata": {
        "id": "ZOGL1sLQBRzx"
      },
      "source": [
        "#### Loading Model "
      ]
    },
    {
      "cell_type": "code",
      "metadata": {
        "id": "SapQWIW8OWbA",
        "colab": {
          "base_uri": "https://localhost:8080/"
        },
        "outputId": "a9cd94eb-f3ee-4dd8-cc10-dc53e66d6b84"
      },
      "source": [
        "load_model = True\r\n",
        "\r\n",
        "if load_model is True:\r\n",
        "    model.load_state_dict(torch.load(root_path + 'A2_Problem1_setting1.pkl'))\r\n",
        "    print('Trained Model Loaded')"
      ],
      "execution_count": null,
      "outputs": [
        {
          "output_type": "stream",
          "text": [
            "Trained Model Loaded\n"
          ],
          "name": "stdout"
        }
      ]
    },
    {
      "cell_type": "markdown",
      "metadata": {
        "id": "mBlisaQ-RlI5"
      },
      "source": [
        "Accuracy: 52.51%"
      ]
    },
    {
      "cell_type": "markdown",
      "metadata": {
        "id": "c1oBOAn5P8bX"
      },
      "source": [
        "###Setting2: Two Layer Neural Network (Deep) with ReLU Activation (Accuracy 61.76%)\r\n",
        "**batch =32,iteration = 26000, learning rate=0.01, nodes per hidden layer= 100**\r\n",
        "\r\n",
        "\r\n",
        "\r\n"
      ]
    },
    {
      "cell_type": "code",
      "metadata": {
        "id": "V3Jw8iNBiqdO"
      },
      "source": [
        "# Hyperparameters\r\n",
        "\r\n",
        "batch_size = 32\r\n",
        "num_iters = 26000\r\n",
        "input_dim = 28*28 # num_features = 784\r\n",
        "num_hidden = 100\r\n",
        "output_dim = 10\r\n",
        "\r\n",
        "learning_rate = 0.01\r\n",
        "# Device\r\n",
        "device = torch.device(\"cuda:0\" if torch.cuda.is_available() else \"cpu\")\r\n",
        "\r\n"
      ],
      "execution_count": null,
      "outputs": []
    },
    {
      "cell_type": "markdown",
      "metadata": {
        "id": "q7Hv4L8cG93i"
      },
      "source": [
        "In this setting, two hidden layer is used. And in every layer ReLU activation function is used. \r\n",
        "\r\n",
        "It Applies the rectified linear unit function element-wise:\r\n",
        "\r\n",
        "$ReLU(x)=(x)^+ =max(0,x)$\r\n",
        "\r\n",
        "<div align=\"center\">\r\n",
        "<img src=\"https://drive.google.com/uc?id=1wKFWSYXY7leTqAxoeKBtpyMtJCqEF1bs\" width=\"500\">\r\n",
        "</div>"
      ]
    },
    {
      "cell_type": "code",
      "metadata": {
        "id": "7EzGcybaizOz",
        "colab": {
          "base_uri": "https://localhost:8080/"
        },
        "outputId": "aa2a92e9-5479-4ad2-d248-1dce9383baa0"
      },
      "source": [
        "num_epochs = num_iters / (len(train_dataset) / batch_size)\r\n",
        "num_epochs = int(num_epochs)\r\n",
        "print(num_epochs)"
      ],
      "execution_count": null,
      "outputs": [
        {
          "output_type": "stream",
          "text": [
            "11\n"
          ],
          "name": "stdout"
        }
      ]
    },
    {
      "cell_type": "code",
      "metadata": {
        "id": "z7WjDEO4iw3e",
        "colab": {
          "base_uri": "https://localhost:8080/"
        },
        "outputId": "2878ba18-c3cd-443e-dcdc-3b5c95b4da78"
      },
      "source": [
        "class DeepNeuralNetworkModel(nn.Module):\r\n",
        "    def __init__(self, input_size, num_classes, num_hidden):\r\n",
        "        super().__init__()\r\n",
        "        ### 1st hidden layer: 784 --> 100\r\n",
        "        self.linear_1 = nn.Linear(input_size, num_hidden)\r\n",
        "        ### Non-linearity in 1st hidden layer\r\n",
        "        self.relu_1 = nn.ReLU()\r\n",
        "\r\n",
        "        ### 2nd hidden layer: 100 --> 100\r\n",
        "        self.linear_2 = nn.Linear(num_hidden, num_hidden)\r\n",
        "        ### Non-linearity in 2nd hidden layer\r\n",
        "        self.relu_2 = nn.ReLU()\r\n",
        "\r\n",
        "        ### Output layer: 100 --> 10\r\n",
        "        self.linear_out = nn.Linear(num_hidden, num_classes)\r\n",
        "\r\n",
        "    def forward(self, x):\r\n",
        "        ### 1st hidden layer\r\n",
        "        out  = self.linear_1(x)\r\n",
        "        ### Non-linearity in 1st hidden layer\r\n",
        "        out = self.relu_1(out)\r\n",
        "        \r\n",
        "        ### 2nd hidden layer\r\n",
        "        out  = self.linear_2(out)\r\n",
        "        ### Non-linearity in 2nd hidden layer\r\n",
        "        out = self.relu_2(out)\r\n",
        "        \r\n",
        "        # Linear layer (output)\r\n",
        "        probas  = self.linear_out(out)\r\n",
        "        return probas\r\n",
        "\r\n",
        "# INSTANTIATE MODEL CLASS\r\n",
        "\r\n",
        "model = DeepNeuralNetworkModel(input_size = input_dim,\r\n",
        "                               num_classes = output_dim,\r\n",
        "                               num_hidden = num_hidden)\r\n",
        "# To enable GPU\r\n",
        "model.to(device)\r\n",
        "\r\n",
        "# INSTANTIATE LOSS & OPTIMIZER CLASS\r\n",
        "\r\n",
        "criterion = nn.CrossEntropyLoss()\r\n",
        "optimizer = torch.optim.SGD(model.parameters(), lr=learning_rate)\r\n",
        "\r\n",
        "iter = 0\r\n",
        "iteration_loss=[]\r\n",
        "for epoch in range(num_epochs):\r\n",
        "    for i, (images, labels) in enumerate(train_loader):\r\n",
        "\r\n",
        "        images = images.view(-1, 28*28).to(device)\r\n",
        "        labels = labels.to(device)\r\n",
        "\r\n",
        "        # Clear gradients w.r.t. parameters\r\n",
        "        optimizer.zero_grad()\r\n",
        "\r\n",
        "        # Forward pass to get output/logits\r\n",
        "        outputs = model(images) \r\n",
        "\r\n",
        "        # Calculate Loss: softmax --> cross entropy loss\r\n",
        "        loss = criterion(outputs, labels)\r\n",
        "\r\n",
        "        # Getting gradients w.r.t. parameters\r\n",
        "        loss.backward()\r\n",
        "\r\n",
        "        # Updating parameters\r\n",
        "        optimizer.step()\r\n",
        "\r\n",
        "        iter += 1\r\n",
        "\r\n",
        "        if iter % 500 == 0:\r\n",
        "            # Calculate Accuracy         \r\n",
        "            correct = 0\r\n",
        "            total = 0\r\n",
        "            # Iterate through test dataset\r\n",
        "            for images, labels in test_loader:\r\n",
        "               \r\n",
        "                images = images.view(-1, 28*28).to(device)\r\n",
        "\r\n",
        "                # Forward pass only to get logits/output\r\n",
        "                outputs = model(images)\r\n",
        "\r\n",
        "                # Get predictions from the maximum value\r\n",
        "                _, predicted = torch.max(outputs, 1)\r\n",
        "\r\n",
        "                # Total number of labels\r\n",
        "                total += labels.size(0)\r\n",
        "\r\n",
        "\r\n",
        "                # Total correct predictions\r\n",
        "                if torch.cuda.is_available():\r\n",
        "                    correct += (predicted.cpu() == labels.cpu()).sum() \r\n",
        "                else:\r\n",
        "                    correct += (predicted == labels).sum()\r\n",
        "\r\n",
        "            accuracy = 100 * correct.item() / total\r\n",
        "            iteration_loss.append(loss.item())\r\n",
        "            # Print Loss\r\n",
        "            print('Iteration: {}. Loss: {}. Accuracy: {}'.format(iter, loss.item(), accuracy))"
      ],
      "execution_count": null,
      "outputs": [
        {
          "output_type": "stream",
          "text": [
            "Iteration: 500. Loss: 2.283236265182495. Accuracy: 18.309272626318712\n",
            "Iteration: 1000. Loss: 2.093052625656128. Accuracy: 25.31926707384786\n",
            "Iteration: 1500. Loss: 2.013409376144409. Accuracy: 28.90061077179345\n",
            "Iteration: 2000. Loss: 1.9171744585037231. Accuracy: 31.60744031093837\n",
            "Iteration: 2500. Loss: 2.045335054397583. Accuracy: 35.42476401998889\n",
            "Iteration: 3000. Loss: 2.2089595794677734. Accuracy: 32.31538034425319\n",
            "Iteration: 3500. Loss: 1.8708444833755493. Accuracy: 32.60688506385341\n",
            "Iteration: 4000. Loss: 2.0584616661071777. Accuracy: 39.533592448639645\n",
            "Iteration: 4500. Loss: 1.7943756580352783. Accuracy: 38.686840644086615\n",
            "Iteration: 5000. Loss: 1.7938646078109741. Accuracy: 37.93725707940033\n",
            "Iteration: 5500. Loss: 1.4816067218780518. Accuracy: 39.75569128262077\n",
            "Iteration: 6000. Loss: 1.723716139793396. Accuracy: 37.38200999444753\n",
            "Iteration: 6500. Loss: 1.6426104307174683. Accuracy: 42.754025541365905\n",
            "Iteration: 7000. Loss: 1.7968416213989258. Accuracy: 43.281510272071074\n",
            "Iteration: 7500. Loss: 1.7021019458770752. Accuracy: 45.89117157134925\n",
            "Iteration: 8000. Loss: 1.6595720052719116. Accuracy: 47.667962243198225\n",
            "Iteration: 8500. Loss: 1.7423474788665771. Accuracy: 44.14214325374792\n",
            "Iteration: 9000. Loss: 1.5158791542053223. Accuracy: 45.86340921710161\n",
            "Iteration: 9500. Loss: 1.6878864765167236. Accuracy: 46.293725707940034\n",
            "Iteration: 10000. Loss: 1.6660866737365723. Accuracy: 49.722376457523595\n",
            "Iteration: 10500. Loss: 1.4517501592636108. Accuracy: 45.41921154913937\n",
            "Iteration: 11000. Loss: 1.7640453577041626. Accuracy: 47.39033870072182\n",
            "Iteration: 11500. Loss: 1.8323110342025757. Accuracy: 48.45918933925597\n",
            "Iteration: 12000. Loss: 1.3349357843399048. Accuracy: 51.42976124375347\n",
            "Iteration: 12500. Loss: 1.5728909969329834. Accuracy: 52.19322598556358\n",
            "Iteration: 13000. Loss: 1.5361607074737549. Accuracy: 51.37423653525819\n",
            "Iteration: 13500. Loss: 1.243141770362854. Accuracy: 52.30427540255414\n",
            "Iteration: 14000. Loss: 1.2611865997314453. Accuracy: 51.65186007773459\n",
            "Iteration: 14500. Loss: 1.2886356115341187. Accuracy: 52.09605774569683\n",
            "Iteration: 15000. Loss: 0.9172056913375854. Accuracy: 52.85952248750694\n",
            "Iteration: 15500. Loss: 1.4981738328933716. Accuracy: 49.139367018323156\n",
            "Iteration: 16000. Loss: 1.3230901956558228. Accuracy: 51.74902831760133\n",
            "Iteration: 16500. Loss: 1.496582269668579. Accuracy: 56.218767351471406\n",
            "Iteration: 17000. Loss: 1.3439511060714722. Accuracy: 51.66574125485841\n",
            "Iteration: 17500. Loss: 1.1702704429626465. Accuracy: 57.38478622987229\n",
            "Iteration: 18000. Loss: 1.266524314880371. Accuracy: 54.636313159355915\n",
            "Iteration: 18500. Loss: 0.9589886665344238. Accuracy: 55.49694614103276\n",
            "Iteration: 19000. Loss: 1.108884572982788. Accuracy: 57.16268739589117\n",
            "Iteration: 19500. Loss: 1.0944955348968506. Accuracy: 55.58023320377568\n",
            "Iteration: 20000. Loss: 1.2846752405166626. Accuracy: 58.85619100499722\n",
            "Iteration: 20500. Loss: 1.3156049251556396. Accuracy: 56.95446973903387\n",
            "Iteration: 21000. Loss: 1.1964333057403564. Accuracy: 55.76068850638534\n",
            "Iteration: 21500. Loss: 1.5398160219192505. Accuracy: 54.46973903387007\n",
            "Iteration: 22000. Loss: 1.1088730096817017. Accuracy: 61.75735702387563\n"
          ],
          "name": "stdout"
        }
      ]
    },
    {
      "cell_type": "markdown",
      "metadata": {
        "id": "2xpoEHL_BsrT"
      },
      "source": [
        "#### Plot of predicted and actual values"
      ]
    },
    {
      "cell_type": "code",
      "metadata": {
        "id": "ysMIaJ--mur_",
        "colab": {
          "base_uri": "https://localhost:8080/",
          "height": 316
        },
        "outputId": "e3e14242-723e-4bac-8633-1c3a1283dc33"
      },
      "source": [
        "print (iteration_loss)\r\n",
        "plt.plot(iteration_loss)\r\n",
        "plt.ylabel('Cross Entropy Loss')\r\n",
        "plt.xlabel('Iteration (in every 500)')\r\n",
        "plt.show()"
      ],
      "execution_count": null,
      "outputs": [
        {
          "output_type": "stream",
          "text": [
            "[2.283236265182495, 2.093052625656128, 2.013409376144409, 1.9171744585037231, 2.045335054397583, 2.2089595794677734, 1.8708444833755493, 2.0584616661071777, 1.7943756580352783, 1.7938646078109741, 1.4816067218780518, 1.723716139793396, 1.6426104307174683, 1.7968416213989258, 1.7021019458770752, 1.6595720052719116, 1.7423474788665771, 1.5158791542053223, 1.6878864765167236, 1.6660866737365723, 1.4517501592636108, 1.7640453577041626, 1.8323110342025757, 1.3349357843399048, 1.5728909969329834, 1.5361607074737549, 1.243141770362854, 1.2611865997314453, 1.2886356115341187, 0.9172056913375854, 1.4981738328933716, 1.3230901956558228, 1.496582269668579, 1.3439511060714722, 1.1702704429626465, 1.266524314880371, 0.9589886665344238, 1.108884572982788, 1.0944955348968506, 1.2846752405166626, 1.3156049251556396, 1.1964333057403564, 1.5398160219192505, 1.1088730096817017]\n"
          ],
          "name": "stdout"
        },
        {
          "output_type": "display_data",
          "data": {
            "image/png": "[encoded data removed]",
            "text/plain": [
              "<Figure size 432x288 with 1 Axes>"
            ]
          },
          "metadata": {
            "tags": [],
            "needs_background": "light"
          }
        }
      ]
    },
    {
      "cell_type": "markdown",
      "metadata": {
        "id": "QBphxH3OBt8L"
      },
      "source": [
        "#### Saving Model to Directory"
      ]
    },
    {
      "cell_type": "code",
      "metadata": {
        "id": "HGKcxLw9nKKJ"
      },
      "source": [
        "if save_model is True:\r\n",
        "    # Saves only parameters\r\n",
        "    # wights & biases\r\n",
        "    torch.save(model.state_dict(), root_path + 'A2_Problem1_setting2.pkl') "
      ],
      "execution_count": null,
      "outputs": []
    },
    {
      "cell_type": "markdown",
      "metadata": {
        "id": "paw5H2heBy8o"
      },
      "source": [
        "#### LoadingModel"
      ]
    },
    {
      "cell_type": "code",
      "metadata": {
        "id": "iYa7k83XnPl1",
        "colab": {
          "base_uri": "https://localhost:8080/"
        },
        "outputId": "f7583bb2-82b6-4038-a7c4-abd25890897a"
      },
      "source": [
        "load_model = True\r\n",
        "\r\n",
        "if load_model is True:\r\n",
        "    model.load_state_dict(torch.load(root_path + 'A2_Problem1_setting2.pkl'))\r\n",
        "    print('Trained Model Loaded')"
      ],
      "execution_count": null,
      "outputs": [
        {
          "output_type": "stream",
          "text": [
            "Trained Model Loaded\n"
          ],
          "name": "stdout"
        }
      ]
    },
    {
      "cell_type": "markdown",
      "metadata": {
        "id": "Ehkp98RIniWR"
      },
      "source": [
        "*Accuracy*: 61.76%\r\n",
        "\r\n"
      ]
    },
    {
      "cell_type": "markdown",
      "metadata": {
        "id": "uPUm6hAAzxp4"
      },
      "source": [
        "###Setting 3: Three Layer Neural Network (Deep) with LeakyReLU Activation (Accuracy 63.94%)\r\n",
        "\r\n",
        "**batch =64, iteration = 12000, learning rate=0.05, nodes per hidden layer= 100**\r\n"
      ]
    },
    {
      "cell_type": "code",
      "metadata": {
        "id": "NWmu1SPJ2SyV"
      },
      "source": [
        "# Hyperparameters\r\n",
        "\r\n",
        "batch_size = 64\r\n",
        "num_iters = 12000\r\n",
        "input_dim = 28*28 # num_features = 784\r\n",
        "num_hidden = 100\r\n",
        "output_dim = 10\r\n",
        "\r\n",
        "learning_rate = 0.05\r\n",
        "# Device\r\n",
        "device = torch.device(\"cuda:0\" if torch.cuda.is_available() else \"cpu\")"
      ],
      "execution_count": null,
      "outputs": []
    },
    {
      "cell_type": "markdown",
      "metadata": {
        "id": "WlmbG2Dvkvtm"
      },
      "source": [
        "Here we have used three hidden layers. And in each layer we have used LeakyReLU activation function. \r\n",
        "This function applies the element-wise function:\r\n",
        "\r\n",
        "$\\text{LeakyReLU}(x) = \\max(0, x) + \\text{negative_slope} * \\min(0, x)$\r\n",
        "\r\n",
        "or\r\n",
        "\r\n",
        "$\\text{LeakyRELU}(x) = \\begin{cases} x, & \\text{ if } x \\geq 0 \\\\ \\text{negative_slope} \\times x, & \\text{ otherwise } \\end{cases}$\r\n",
        "\r\n",
        "\r\n",
        "<div align=\"center\">\r\n",
        "<img src=\"https://drive.google.com/uc?id=1mrXVaeMrCaMXDRy8-ZrBkyKY-qeYq9ki\" width=\"500\">\r\n",
        "</div>\r\n",
        "​\t"
      ]
    },
    {
      "cell_type": "code",
      "metadata": {
        "id": "aXuSg3d65AwZ",
        "colab": {
          "base_uri": "https://localhost:8080/"
        },
        "outputId": "6b759dee-afb0-4acc-aef3-10319d6356f8"
      },
      "source": [
        "num_epochs = num_iters / (len(train_dataset) / batch_size)\r\n",
        "num_epochs = int(num_epochs)\r\n",
        "print(num_epochs)"
      ],
      "execution_count": null,
      "outputs": [
        {
          "output_type": "stream",
          "text": [
            "10\n"
          ],
          "name": "stdout"
        }
      ]
    },
    {
      "cell_type": "code",
      "metadata": {
        "id": "ejhb8EGz2emB",
        "colab": {
          "base_uri": "https://localhost:8080/"
        },
        "outputId": "4d1e08e6-3653-453b-c870-061ebc54b843"
      },
      "source": [
        "\r\n",
        "class DeepNeuralNetworkModel(nn.Module):\r\n",
        "    def __init__(self, input_size, num_classes, num_hidden):\r\n",
        "        super().__init__()\r\n",
        "        ### 1st hidden layer: 784 --> 100\r\n",
        "        self.linear_1 = nn.Linear(input_size, num_hidden)\r\n",
        "        ### Non-linearity in 1st hidden layer\r\n",
        "        self.leaky_relu_1 = nn.LeakyReLU()\r\n",
        "\r\n",
        "        ### 2nd hidden layer: 100 --> 100\r\n",
        "        self.linear_2 = nn.Linear(num_hidden, num_hidden)\r\n",
        "        ### Non-linearity in 2nd hidden layer\r\n",
        "        self.leaky_relu_2 = nn.LeakyReLU()\r\n",
        "\r\n",
        "        ### 3rd hidden layer: 100 --> 100\r\n",
        "        self.linear_3 = nn.Linear(num_hidden, num_hidden)\r\n",
        "        ### Non-linearity in 3rd hidden layer\r\n",
        "        self.leaky_relu_3 = nn.LeakyReLU()\r\n",
        "\r\n",
        "        ### Output layer: 100 --> 10\r\n",
        "        self.linear_out = nn.Linear(num_hidden, num_classes)\r\n",
        "\r\n",
        "    def forward(self, x):\r\n",
        "        ### 1st hidden layer\r\n",
        "        out  = self.linear_1(x)\r\n",
        "        ### Non-linearity in 1st hidden layer\r\n",
        "        out = self.leaky_relu_1(out)\r\n",
        "        \r\n",
        "        ### 2nd hidden layer\r\n",
        "        out  = self.linear_2(out)\r\n",
        "        ### Non-linearity in 2nd hidden layer\r\n",
        "        out = self.leaky_relu_2(out)\r\n",
        "\r\n",
        "        ### 3rd hidden layer\r\n",
        "        out  = self.linear_3(out)\r\n",
        "        ### Non-linearity in 3rd hidden layer\r\n",
        "        out = self.leaky_relu_3(out)\r\n",
        "        \r\n",
        "        # Linear layer (output)\r\n",
        "        probas  = self.linear_out(out)\r\n",
        "        return probas\r\n",
        "\r\n",
        "# INSTANTIATE MODEL CLASS\r\n",
        "\r\n",
        "model = DeepNeuralNetworkModel(input_size = input_dim,\r\n",
        "                               num_classes = output_dim,\r\n",
        "                               num_hidden = num_hidden)\r\n",
        "# To enable GPU\r\n",
        "model.to(device)\r\n",
        "\r\n",
        "# INSTANTIATE LOSS & OPTIMIZER CLASS\r\n",
        "criterion = nn.CrossEntropyLoss()\r\n",
        "optimizer = torch.optim.SGD(model.parameters(), lr=learning_rate)\r\n",
        "\r\n",
        "iteration_loss=[]\r\n",
        "iter = 0\r\n",
        "for epoch in range(num_epochs):\r\n",
        "    for i, (images, labels) in enumerate(train_loader):\r\n",
        "\r\n",
        "        images = images.view(-1, 28*28).to(device)\r\n",
        "        labels = labels.to(device)\r\n",
        "\r\n",
        "        # Clear gradients w.r.t. parameters\r\n",
        "        optimizer.zero_grad()\r\n",
        "\r\n",
        "        # Forward pass to get output/logits\r\n",
        "        outputs = model(images) \r\n",
        "\r\n",
        "        # Calculate Loss: softmax --> cross entropy loss\r\n",
        "        loss = criterion(outputs, labels)\r\n",
        "\r\n",
        "        # Getting gradients w.r.t. parameters\r\n",
        "        loss.backward()\r\n",
        "\r\n",
        "        # Updating parameters\r\n",
        "        optimizer.step()\r\n",
        "\r\n",
        "        iter += 1\r\n",
        "\r\n",
        "        if iter % 500 == 0:\r\n",
        "            # Calculate Accuracy         \r\n",
        "            correct = 0\r\n",
        "            total = 0\r\n",
        "            # Iterate through test dataset\r\n",
        "            for images, labels in test_loader:\r\n",
        "               \r\n",
        "                images = images.view(-1, 28*28).to(device)\r\n",
        "\r\n",
        "                # Forward pass only to get logits/output\r\n",
        "                outputs = model(images)\r\n",
        "\r\n",
        "                # Get predictions from the maximum value\r\n",
        "                _, predicted = torch.max(outputs, 1)\r\n",
        "\r\n",
        "                # Total number of labels\r\n",
        "                total += labels.size(0)\r\n",
        "\r\n",
        "\r\n",
        "                # Total correct predictions\r\n",
        "                if torch.cuda.is_available():\r\n",
        "                    correct += (predicted.cpu() == labels.cpu()).sum() \r\n",
        "                else:\r\n",
        "                    correct += (predicted == labels).sum()\r\n",
        "\r\n",
        "            accuracy = 100 * correct.item() / total\r\n",
        "\r\n",
        "            iteration_loss.append(loss.item())\r\n",
        "            # Print Loss\r\n",
        "            print('Iteration: {}. Loss: {}. Accuracy: {}'.format(iter, loss.item(), accuracy))"
      ],
      "execution_count": null,
      "outputs": [
        {
          "output_type": "stream",
          "text": [
            "Iteration: 500. Loss: 2.0134716033935547. Accuracy: 23.237090505274846\n",
            "Iteration: 1000. Loss: 1.9671496152877808. Accuracy: 26.62409772348695\n",
            "Iteration: 1500. Loss: 1.5631868839263916. Accuracy: 36.28539700166574\n",
            "Iteration: 2000. Loss: 1.846399188041687. Accuracy: 38.02054414214325\n",
            "Iteration: 2500. Loss: 1.699814796447754. Accuracy: 38.52026651860078\n",
            "Iteration: 3000. Loss: 2.0444796085357666. Accuracy: 36.89616879511382\n",
            "Iteration: 3500. Loss: 1.6533279418945312. Accuracy: 43.920044419766796\n",
            "Iteration: 4000. Loss: 1.5713564157485962. Accuracy: 48.153803442531924\n",
            "Iteration: 4500. Loss: 2.072197198867798. Accuracy: 32.967795669072736\n",
            "Iteration: 5000. Loss: 1.4604921340942383. Accuracy: 51.34647418101055\n",
            "Iteration: 5500. Loss: 1.520715355873108. Accuracy: 51.943364797334816\n",
            "Iteration: 6000. Loss: 1.6268835067749023. Accuracy: 52.19322598556358\n",
            "Iteration: 6500. Loss: 1.4062893390655518. Accuracy: 43.93392559689062\n",
            "Iteration: 7000. Loss: 1.420956015586853. Accuracy: 57.259855635757916\n",
            "Iteration: 7500. Loss: 1.4080015420913696. Accuracy: 47.80677401443642\n",
            "Iteration: 8000. Loss: 1.0509029626846313. Accuracy: 59.300388672959464\n",
            "Iteration: 8500. Loss: 1.1001290082931519. Accuracy: 55.8023320377568\n",
            "Iteration: 9000. Loss: 1.416479229927063. Accuracy: 60.21654636313159\n",
            "Iteration: 9500. Loss: 1.2896497249603271. Accuracy: 63.43697945585786\n",
            "Iteration: 10000. Loss: 0.8878252506256104. Accuracy: 63.93670183231538\n"
          ],
          "name": "stdout"
        }
      ]
    },
    {
      "cell_type": "markdown",
      "metadata": {
        "id": "YXNfPEwQA8Pb"
      },
      "source": [
        "####Plot of predicted and actual values"
      ]
    },
    {
      "cell_type": "code",
      "metadata": {
        "id": "zZ4c8XngBPrB",
        "colab": {
          "base_uri": "https://localhost:8080/",
          "height": 316
        },
        "outputId": "935a5d01-4aee-4b8f-c5d5-eca300306d5f"
      },
      "source": [
        "print (iteration_loss)\r\n",
        "plt.plot(iteration_loss)\r\n",
        "plt.ylabel('Cross Entropy Loss')\r\n",
        "plt.xlabel('Iteration (in every 500)')\r\n",
        "plt.show()"
      ],
      "execution_count": null,
      "outputs": [
        {
          "output_type": "stream",
          "text": [
            "[2.0134716033935547, 1.9671496152877808, 1.5631868839263916, 1.846399188041687, 1.699814796447754, 2.0444796085357666, 1.6533279418945312, 1.5713564157485962, 2.072197198867798, 1.4604921340942383, 1.520715355873108, 1.6268835067749023, 1.4062893390655518, 1.420956015586853, 1.4080015420913696, 1.0509029626846313, 1.1001290082931519, 1.416479229927063, 1.2896497249603271, 0.8878252506256104]\n"
          ],
          "name": "stdout"
        },
        {
          "output_type": "display_data",
          "data": {
            "image/png": "[encoded data removed]",
            "text/plain": [
              "<Figure size 432x288 with 1 Axes>"
            ]
          },
          "metadata": {
            "tags": [],
            "needs_background": "light"
          }
        }
      ]
    },
    {
      "cell_type": "markdown",
      "metadata": {
        "id": "P1yNjodGlaFH"
      },
      "source": [
        "####Saving Model to Directory"
      ]
    },
    {
      "cell_type": "code",
      "metadata": {
        "id": "sW3JwFX6BWxV"
      },
      "source": [
        "import pickle\r\n",
        "save_model = True\r\n",
        "\r\n",
        "\r\n",
        "if save_model is True:\r\n",
        "    # Saves only parameters\r\n",
        "    # wights & biases\r\n",
        "    torch.save(model.state_dict(), root_path + 'A2_Problem1_setting3.pkl') "
      ],
      "execution_count": null,
      "outputs": []
    },
    {
      "cell_type": "markdown",
      "metadata": {
        "id": "zJBMQBiOlb1k"
      },
      "source": [
        "####Loading Model"
      ]
    },
    {
      "cell_type": "code",
      "metadata": {
        "id": "W11uxg-CBXI2",
        "colab": {
          "base_uri": "https://localhost:8080/"
        },
        "outputId": "3b606f9f-10b9-4d3f-fef8-198a026dc01a"
      },
      "source": [
        "load_model = True\r\n",
        "\r\n",
        "if load_model is True:\r\n",
        "    model.load_state_dict(torch.load(root_path + 'A2_Problem1_setting3.pkl'))\r\n",
        "    print('Trained Model Loaded')"
      ],
      "execution_count": null,
      "outputs": [
        {
          "output_type": "stream",
          "text": [
            "Trained Model Loaded\n"
          ],
          "name": "stdout"
        }
      ]
    },
    {
      "cell_type": "markdown",
      "metadata": {
        "id": "pdEycpZ7beMb"
      },
      "source": [
        "Accuracy: 63.94% "
      ]
    },
    {
      "cell_type": "markdown",
      "metadata": {
        "id": "h7gyEzJq9Bt3"
      },
      "source": [
        "###Setting 4: Four Layer Neural Network (Deep) with LeakyReLU Activation (Accuracy 73.73%)\r\n",
        "\r\n",
        "**batch =64, iteration = 18000, learning rate=0.1, nodes per hidden layer= 200**\r\n",
        "\r\n",
        "\r\n",
        "\r\n"
      ]
    },
    {
      "cell_type": "code",
      "metadata": {
        "id": "KSiAD4mbti8b"
      },
      "source": [
        "# Hyperparameters\r\n",
        "\r\n",
        "batch_size = 64\r\n",
        "num_iters = 18000\r\n",
        "input_dim = 28*28 # num_features = 784\r\n",
        "num_hidden=200\r\n",
        "output_dim = 10\r\n",
        "\r\n",
        "learning_rate = 0.1\r\n",
        "# Device\r\n",
        "device = torch.device(\"cuda:0\" if torch.cuda.is_available() else \"cpu\")"
      ],
      "execution_count": null,
      "outputs": []
    },
    {
      "cell_type": "markdown",
      "metadata": {
        "id": "HmDxjOcmnhkG"
      },
      "source": [
        "Here we have used three hidden layers. And in each layer we have used LeakyReLU activation function. \r\n",
        "This function applies the element-wise function:\r\n",
        "\r\n",
        "$\\text{LeakyReLU}(x) = \\max(0, x) + \\text{negative_slope} * \\min(0, x)$\r\n",
        "\r\n",
        "or\r\n",
        "\r\n",
        "$\\text{LeakyRELU}(x) = \\begin{cases} x, & \\text{ if } x \\geq 0 \\\\ \\text{negative_slope} \\times x, & \\text{ otherwise } \\end{cases}$\r\n",
        "\r\n",
        "\r\n",
        "\r\n",
        "<div align=\"center\">\r\n",
        "<img src=\"https://drive.google.com/uc?id=1mrXVaeMrCaMXDRy8-ZrBkyKY-qeYq9ki\" width=\"500\">\r\n",
        "</div>"
      ]
    },
    {
      "cell_type": "code",
      "metadata": {
        "id": "1b8FujE7tjAI",
        "colab": {
          "base_uri": "https://localhost:8080/"
        },
        "outputId": "793eaa75-4518-4b13-d9a0-16389b7cc8c4"
      },
      "source": [
        "num_epochs = num_iters / (len(train_dataset) / batch_size)\r\n",
        "num_epochs = int(num_epochs)\r\n",
        "print(num_epochs)\r\n"
      ],
      "execution_count": null,
      "outputs": [
        {
          "output_type": "stream",
          "text": [
            "15\n"
          ],
          "name": "stdout"
        }
      ]
    },
    {
      "cell_type": "code",
      "metadata": {
        "id": "gWftjNDr9L38",
        "colab": {
          "base_uri": "https://localhost:8080/"
        },
        "outputId": "01ae9154-81a4-4b8c-f16e-46d2eec3acc5"
      },
      "source": [
        "\r\n",
        "class DeepNeuralNetworkModel(nn.Module):\r\n",
        "    def __init__(self, input_size, num_classes, num_hidden):\r\n",
        "        super().__init__()\r\n",
        "        ### 1st hidden layer: 784 --> 200\r\n",
        "        self.linear_1 = nn.Linear(input_size, num_hidden)\r\n",
        "        ### Non-linearity in 1st hidden layer\r\n",
        "        self.leaky_relu_1 = nn.LeakyReLU()\r\n",
        "\r\n",
        "        ### 2nd hidden layer: 200 --> 200\r\n",
        "        self.linear_2 = nn.Linear(num_hidden, num_hidden)\r\n",
        "        ### Non-linearity in 2nd hidden layer\r\n",
        "        self.leaky_relu_2 = nn.LeakyReLU()\r\n",
        "\r\n",
        "        ### 3rd hidden layer: 200 --> 200\r\n",
        "        self.linear_3 = nn.Linear(num_hidden, num_hidden)\r\n",
        "        ### Non-linearity in 3rd hidden layer\r\n",
        "        self.leaky_relu_3 = nn.LeakyReLU()\r\n",
        "\r\n",
        "        ### 4th hidden layer: 200 --> 200\r\n",
        "        self.linear_4 = nn.Linear(num_hidden, num_hidden)\r\n",
        "        ### Non-linearity in 4th hidden layer\r\n",
        "        self.leaky_relu_4 = nn.LeakyReLU()\r\n",
        "\r\n",
        "        ### Output layer: 200 --> 10\r\n",
        "        self.linear_out = nn.Linear(num_hidden, num_classes)\r\n",
        "\r\n",
        "    def forward(self, x):\r\n",
        "        ### 1st hidden layer\r\n",
        "        out  = self.linear_1(x)\r\n",
        "        ### Non-linearity in 1st hidden layer\r\n",
        "        out = self.leaky_relu_1(out)\r\n",
        "        \r\n",
        "        ### 2nd hidden layer\r\n",
        "        out  = self.linear_2(out)\r\n",
        "        ### Non-linearity in 2nd hidden layer\r\n",
        "        out = self.leaky_relu_2(out)\r\n",
        "\r\n",
        "        ### 3rd hidden layer\r\n",
        "        out  = self.linear_3(out)\r\n",
        "        ### Non-linearity in 3rd hidden layer\r\n",
        "        out = self.leaky_relu_3(out)\r\n",
        "\r\n",
        "        ### 4th hidden layer\r\n",
        "        out  = self.linear_4(out)\r\n",
        "        ### Non-linearity in 4th hidden layer\r\n",
        "        out = self.leaky_relu_4(out)\r\n",
        "        \r\n",
        "        # Linear layer (output)\r\n",
        "        probas  = self.linear_out(out)\r\n",
        "        return probas\r\n",
        "\r\n",
        "# INSTANTIATE MODEL CLASS\r\n",
        "\r\n",
        "model = DeepNeuralNetworkModel(input_size = input_dim,\r\n",
        "                               num_classes = output_dim,\r\n",
        "                               num_hidden = num_hidden)\r\n",
        "# To enable GPU\r\n",
        "model.to(device)\r\n",
        "\r\n",
        "# INSTANTIATE LOSS & OPTIMIZER CLASS\r\n",
        "criterion = nn.CrossEntropyLoss()\r\n",
        "optimizer = torch.optim.SGD(model.parameters(), lr=learning_rate)\r\n",
        "\r\n",
        "iteration_loss=[]\r\n",
        "iter = 0\r\n",
        "for epoch in range(num_epochs):\r\n",
        "    for i, (images, labels) in enumerate(train_loader):\r\n",
        "\r\n",
        "        images = images.view(-1, 28*28).to(device)\r\n",
        "        labels = labels.to(device)\r\n",
        "\r\n",
        "        # Clear gradients w.r.t. parameters\r\n",
        "        optimizer.zero_grad()\r\n",
        "\r\n",
        "        # Forward pass to get output/logits\r\n",
        "        outputs = model(images) \r\n",
        "\r\n",
        "        # Calculate Loss: softmax --> cross entropy loss\r\n",
        "        loss = criterion(outputs, labels)\r\n",
        "\r\n",
        "        # Getting gradients w.r.t. parameters\r\n",
        "        loss.backward()\r\n",
        "\r\n",
        "        # Updating parameters\r\n",
        "        optimizer.step()\r\n",
        "\r\n",
        "        iter += 1\r\n",
        "\r\n",
        "        if iter % 500 == 0:\r\n",
        "            # Calculate Accuracy         \r\n",
        "            correct = 0\r\n",
        "            total = 0\r\n",
        "            # Iterate through test dataset\r\n",
        "            for images, labels in test_loader:\r\n",
        "               \r\n",
        "                images = images.view(-1, 28*28).to(device)\r\n",
        "\r\n",
        "                # Forward pass only to get logits/output\r\n",
        "                outputs = model(images)\r\n",
        "\r\n",
        "                # Get predictions from the maximum value\r\n",
        "                _, predicted = torch.max(outputs, 1)\r\n",
        "\r\n",
        "                # Total number of labels\r\n",
        "                total += labels.size(0)\r\n",
        "\r\n",
        "\r\n",
        "                # Total correct predictions\r\n",
        "                if torch.cuda.is_available():\r\n",
        "                    correct += (predicted.cpu() == labels.cpu()).sum() \r\n",
        "                else:\r\n",
        "                    correct += (predicted == labels).sum()\r\n",
        "\r\n",
        "            accuracy = 100 * correct.item() / total\r\n",
        "\r\n",
        "            iteration_loss.append(loss.item())\r\n",
        "            # Print Loss\r\n",
        "            print('Iteration: {}. Loss: {}. Accuracy: {}'.format(iter, loss.item(), accuracy))"
      ],
      "execution_count": null,
      "outputs": [
        {
          "output_type": "stream",
          "text": [
            "Iteration: 500. Loss: 1.8158823251724243. Accuracy: 25.735702387562466\n",
            "Iteration: 1000. Loss: 1.7685785293579102. Accuracy: 34.1893392559689\n",
            "Iteration: 1500. Loss: 1.7467007637023926. Accuracy: 33.74514158800666\n",
            "Iteration: 2000. Loss: 1.565964698791504. Accuracy: 40.13048306496391\n",
            "Iteration: 2500. Loss: 1.7435005903244019. Accuracy: 37.63187118267629\n",
            "Iteration: 3000. Loss: 1.8340883255004883. Accuracy: 35.60521932259856\n",
            "Iteration: 3500. Loss: 1.738470196723938. Accuracy: 39.630760688506385\n",
            "Iteration: 4000. Loss: 1.4815887212753296. Accuracy: 40.782898389783455\n",
            "Iteration: 4500. Loss: 2.0211167335510254. Accuracy: 34.952803997779014\n",
            "Iteration: 5000. Loss: 1.2673059701919556. Accuracy: 47.681843420322046\n",
            "Iteration: 5500. Loss: 1.534876823425293. Accuracy: 43.22598556357579\n",
            "Iteration: 6000. Loss: 1.6946238279342651. Accuracy: 44.947251526929485\n",
            "Iteration: 6500. Loss: 1.2762389183044434. Accuracy: 55.02498611882287\n",
            "Iteration: 7000. Loss: 1.3843986988067627. Accuracy: 56.32981676846197\n",
            "Iteration: 7500. Loss: 1.4949554204940796. Accuracy: 57.70405330372016\n",
            "Iteration: 8000. Loss: 1.0939726829528809. Accuracy: 48.51471404775125\n",
            "Iteration: 8500. Loss: 0.9988976120948792. Accuracy: 56.010549694614106\n",
            "Iteration: 9000. Loss: 1.2917003631591797. Accuracy: 60.60521932259856\n",
            "Iteration: 9500. Loss: 1.041834831237793. Accuracy: 54.941699056079955\n",
            "Iteration: 10000. Loss: 1.139032244682312. Accuracy: 62.68739589117157\n",
            "Iteration: 10500. Loss: 0.7764773964881897. Accuracy: 64.04775124930595\n",
            "Iteration: 11000. Loss: 0.9993008375167847. Accuracy: 66.19933370349806\n",
            "Iteration: 11500. Loss: 0.8446411490440369. Accuracy: 64.58911715713492\n",
            "Iteration: 12000. Loss: 0.9518325328826904. Accuracy: 66.0882842865075\n",
            "Iteration: 12500. Loss: 0.696003258228302. Accuracy: 64.7834536368684\n",
            "Iteration: 13000. Loss: 0.6278815269470215. Accuracy: 71.98778456413103\n",
            "Iteration: 13500. Loss: 0.7340837121009827. Accuracy: 74.48639644641865\n",
            "Iteration: 14000. Loss: 0.6262462139129639. Accuracy: 72.0294280955025\n",
            "Iteration: 14500. Loss: 0.9960370659828186. Accuracy: 68.65630205441421\n",
            "Iteration: 15000. Loss: 0.7881004810333252. Accuracy: 73.73681288173238\n"
          ],
          "name": "stdout"
        }
      ]
    },
    {
      "cell_type": "markdown",
      "metadata": {
        "id": "TB9yiv9qn7Sj"
      },
      "source": [
        "####Plot of predicted and actual values"
      ]
    },
    {
      "cell_type": "code",
      "metadata": {
        "id": "R8Rtbl8S9L_F",
        "colab": {
          "base_uri": "https://localhost:8080/",
          "height": 316
        },
        "outputId": "ddec6aae-5e18-4c0d-e30e-44ee11f378d0"
      },
      "source": [
        "print (iteration_loss)\r\n",
        "plt.plot(iteration_loss)\r\n",
        "plt.ylabel('Cross Entropy Loss')\r\n",
        "plt.xlabel('Iteration (in every 500)')\r\n",
        "plt.show()"
      ],
      "execution_count": null,
      "outputs": [
        {
          "output_type": "stream",
          "text": [
            "[1.8158823251724243, 1.7685785293579102, 1.7467007637023926, 1.565964698791504, 1.7435005903244019, 1.8340883255004883, 1.738470196723938, 1.4815887212753296, 2.0211167335510254, 1.2673059701919556, 1.534876823425293, 1.6946238279342651, 1.2762389183044434, 1.3843986988067627, 1.4949554204940796, 1.0939726829528809, 0.9988976120948792, 1.2917003631591797, 1.041834831237793, 1.139032244682312, 0.7764773964881897, 0.9993008375167847, 0.8446411490440369, 0.9518325328826904, 0.696003258228302, 0.6278815269470215, 0.7340837121009827, 0.6262462139129639, 0.9960370659828186, 0.7881004810333252]\n"
          ],
          "name": "stdout"
        },
        {
          "output_type": "display_data",
          "data": {
            "image/png": "[encoded data removed]",
            "text/plain": [
              "<Figure size 432x288 with 1 Axes>"
            ]
          },
          "metadata": {
            "tags": [],
            "needs_background": "light"
          }
        }
      ]
    },
    {
      "cell_type": "markdown",
      "metadata": {
        "id": "iqJnSKIGoFCh"
      },
      "source": [
        "####Saving Model to directory"
      ]
    },
    {
      "cell_type": "code",
      "metadata": {
        "id": "IbiJwdKU9MB3"
      },
      "source": [
        "import pickle\r\n",
        "save_model = True\r\n",
        "\r\n",
        "\r\n",
        "if save_model is True:\r\n",
        "    # Saves only parameters\r\n",
        "    # wights & biases\r\n",
        "    torch.save(model.state_dict(), root_path + 'A2_Problem1_setting5.pkl') "
      ],
      "execution_count": null,
      "outputs": []
    },
    {
      "cell_type": "markdown",
      "metadata": {
        "id": "Eo9uPi4EoIS-"
      },
      "source": [
        "####Loading Model"
      ]
    },
    {
      "cell_type": "code",
      "metadata": {
        "id": "NLK4Z1Iq9MG2",
        "colab": {
          "base_uri": "https://localhost:8080/"
        },
        "outputId": "22126995-142b-42c8-c1c0-411e8fc1e50c"
      },
      "source": [
        "load_model = True\r\n",
        "\r\n",
        "if load_model is True:\r\n",
        "    model.load_state_dict(torch.load(root_path + 'A2_Problem1_setting5.pkl'))\r\n",
        "    print('Trained Model Loaded')"
      ],
      "execution_count": null,
      "outputs": [
        {
          "output_type": "stream",
          "text": [
            "Trained Model Loaded\n"
          ],
          "name": "stdout"
        }
      ]
    },
    {
      "cell_type": "markdown",
      "metadata": {
        "id": "0sve9P-cE9Fp"
      },
      "source": [
        "Accuracy 73.73%"
      ]
    },
    {
      "cell_type": "markdown",
      "metadata": {
        "id": "PrlsixDYmcno"
      },
      "source": [
        "##Analyzing the Tuning of Hyperparameters:"
      ]
    },
    {
      "cell_type": "markdown",
      "metadata": {
        "id": "vODAjngjmc_q"
      },
      "source": [
        "\r\n",
        "| Setting No.| Batch size | Dataset per batch | Iterations| Epochs| Learning rate    |Number of hideen layer|Number of Nodes per Hiddden layer|Activation Function |Accuracy| \r\n",
        "| :-------------: | :----------: | :-----------: | :-------------: | :----------: | :-----------: | :-----------: | :-----------: |:-----------: |:-----------: |\r\n",
        "| 01 | 32 | 2253 |  16000 |  7 | 0.1   | 1|100|ReLU |52.51%   |\r\n",
        "| 02 | 32 | 2253 |  26000 | 11 | 0.01    | 2|100|ReLU|61.76%   |\r\n",
        "| 03 | 64 | 1127 |  12000 | 10 | 0.05    | 3|100|LeakyReLU|63.94%   |\r\n",
        "| 04 | 64 | 1127 |  18000 | 15 | 0.1    | 4|200|LeakyReLU|**73.73%** |\r\n",
        "\r\n",
        "\r\n",
        "\r\n"
      ]
    },
    {
      "cell_type": "markdown",
      "metadata": {
        "id": "dmsfe0semdf1"
      },
      "source": [
        "Here, we can see the best accuracy among 4 settings is **73.73**%. We can analyze this taking each parameter in comparison.\r\n",
        "\r\n",
        "- **Analyzing according to number of hidden layers:**\r\n",
        "\r\n",
        "<div align=\"center\">\r\n",
        "<img src=\"https://drive.google.com/uc?id=1RIbv-I_1kxsT8tWO-PUUKNHmyI3tphJf\" width=\"300\">\r\n",
        "</div>\r\n",
        "\r\n",
        "Among the seetings, we can see that the more we increase the number of hidden layer the more accuracy increases. It can say that if the hlayer number increases, the networks becomes more stronger and gives better result. But, it also depends  on the size of the dataset. For smaller experiment , a very complicated model becomes unnecessary and the result becomes overfitted.\r\n",
        "\r\n",
        "- **Analyzing according to the number of nodes per hidden layer:**\r\n",
        "\r\n",
        "In per hidden layer, the number of nodes may vary. By incresing the number of nodes, accuracy might increase. But again it depends on the size of the dataset. For smaller experiment , a very complicated model becomes unnecessary and the result becomes overfitted.\r\n",
        "\r\n",
        "- **Analyzing according to activation function:**\r\n",
        "\r\n",
        "There are various kind of activation function from pytroch we can use.  [**LINK**](https://pytorch.org/docs/stable/nn.html#non-linear-activations-weighted-sum-nonlinearity) We have already known that ReLU is better than Sigmoid and Tanh and it is better to start with ReLU activation function.Because the calculation load is less than the sigmoid and hyperbolic tangent \r\n",
        "functions has led ReLu to a higher preference for multi-layer networks. \r\n",
        "\r\n",
        " In two setting we have used **ReLU** and in two other we have used **LeakyReLU** activation function. and we can see that LeakyReLu gives better result  than ReLU. Beacuse this variation of \r\n",
        "ReLU has a small positive slope in the negative \r\n",
        "area, so it does enable backpropagation, even for \r\n",
        "negative input values. This leaky value is given as \r\n",
        "a value of 0.01 if not +ve. \r\n",
        "\r\n",
        "- **Analyzing according to learning rate:**\r\n",
        "\r\n",
        "\r\n",
        "<div align=\"center\">\r\n",
        "<img src=\"https://drive.google.com/uc?id=14UHEwXqnicCx1POOEDijdELfKkY2hss6\" width=\"300\">\r\n",
        "</div>\r\n",
        "\r\n",
        "\r\n",
        "We can see the more learning rate increases, the more accuracy increases. From this it is said that, A learning rate that is too low will take a long time to converge and not give a good result. But sometime higher learning rate may result to miss the global minima.\r\n",
        "\r\n",
        "- **Analyzing according to epochs:**\r\n",
        "\r\n",
        "<div align=\"center\">\r\n",
        "<img src=\"https://drive.google.com/uc?id=1B1o2tKmzhUarB3SWohlXD4_nfVJHa3Ba\" width=\"300\">\r\n",
        "</div>\r\n",
        "\r\n",
        "In general, the models improve with more epochs of training, to a point. They'll start to plateau in accuracy as they converge. But, here comparing setting 2 and 4, we can see as the epoch increases , accuracy decreases. So, we can say it is dataset dependent. \r\n",
        "\r\n",
        "\r\n",
        "- **Analyzing according to batch size and iterations:**\r\n",
        "\r\n",
        "\r\n",
        "<div align=\"center\">\r\n",
        "<img src=\"https://drive.google.com/uc?id=1E2o0RQDpME1AeTyrcY4zoq7p0PyudGtw\" width=\"300\">\r\n",
        "</div>\r\n",
        "\r\n",
        "\r\n",
        "In general, larger batch sizes result in faster progress in training, but don't always converge as fast. Smaller batch sizes train slower, but can converge faster.\r\n",
        "\r\n",
        "\r\n",
        "\r\n",
        "- **Analyzing the graphs of all the settings according to loss functions:**\r\n",
        "\r\n",
        "<div align=\"center\">\r\n",
        "<img src=\"https://drive.google.com/uc?id=1aJqyPqmz4z2Dxkc4fTaFjnkU5nHDklTO\" width=\"800\">\r\n",
        "</div>\r\n",
        "\r\n",
        "\r\n",
        "From the above graphs, we can see that the more the model gets trained, the more loss function decreaes i.e. gives better result. We can also see, one on hidden layer the loss function flauctes more frequently. But the more hidden layer increases, the graph goes lower .\r\n",
        "\r\n",
        "\r\n"
      ]
    },
    {
      "cell_type": "code",
      "metadata": {
        "colab": {
          "base_uri": "https://localhost:8080/",
          "height": 282
        },
        "id": "Nna3cpb32ZdK",
        "outputId": "37c66d34-f437-4740-e82e-d1ba56f901bf"
      },
      "source": [
        "import matplotlib\r\n",
        "import matplotlib.pyplot as plt\r\n",
        "X=[0.1,0.01,0.05,0.1]\r\n",
        "Y=[0.52,0.61,0.64,0.74]\r\n",
        "plt.plot(X,Y)\r\n",
        "plt.ylabel('Accuracy')\r\n",
        "plt.xlabel('Learning Rate')\r\n",
        "plt.show()"
      ],
      "execution_count": null,
      "outputs": [
        {
          "output_type": "display_data",
          "data": {
            "image/png": "[encoded data removed]",
            "text/plain": [
              "<Figure size 432x288 with 1 Axes>"
            ]
          },
          "metadata": {
            "tags": [],
            "needs_background": "light"
          }
        }
      ]
    },
    {
      "cell_type": "code",
      "metadata": {
        "colab": {
          "base_uri": "https://localhost:8080/",
          "height": 282
        },
        "id": "NLYQkrrE-fOU",
        "outputId": "185782d9-6737-40b9-faee-5622023352fa"
      },
      "source": [
        "import matplotlib\r\n",
        "import matplotlib.pyplot as plt\r\n",
        "X=[7,11,10,15]\r\n",
        "Y=[0.52,0.61,0.64,0.74]\r\n",
        "plt.plot(X,Y)\r\n",
        "plt.ylabel('Accuracy')\r\n",
        "plt.xlabel('Number of Epochs')\r\n",
        "plt.show()"
      ],
      "execution_count": null,
      "outputs": [
        {
          "output_type": "display_data",
          "data": {
            "image/png": "[encoded data removed]",
            "text/plain": [
              "<Figure size 432x288 with 1 Axes>"
            ]
          },
          "metadata": {
            "tags": [],
            "needs_background": "light"
          }
        }
      ]
    },
    {
      "cell_type": "code",
      "metadata": {
        "colab": {
          "base_uri": "https://localhost:8080/",
          "height": 282
        },
        "id": "-Dk89dm7Dwz7",
        "outputId": "95437960-d6f5-439f-8b84-55ce55deb095"
      },
      "source": [
        "import matplotlib\r\n",
        "import matplotlib.pyplot as plt\r\n",
        "X=[32,32,64,64]\r\n",
        "Y=[0.52,0.61,0.64,0.74]\r\n",
        "plt.plot(X,Y)\r\n",
        "plt.ylabel('Accuracy')\r\n",
        "plt.xlabel('Batch size')\r\n",
        "plt.show()"
      ],
      "execution_count": null,
      "outputs": [
        {
          "output_type": "display_data",
          "data": {
            "image/png": "[encoded data removed]",
            "text/plain": [
              "<Figure size 432x288 with 1 Axes>"
            ]
          },
          "metadata": {
            "tags": [],
            "needs_background": "light"
          }
        }
      ]
    },
    {
      "cell_type": "code",
      "metadata": {
        "colab": {
          "base_uri": "https://localhost:8080/",
          "height": 282
        },
        "id": "ZevO8fxWThN5",
        "outputId": "064763a4-4523-4e8f-f8f4-2c4003ad4acd"
      },
      "source": [
        "import matplotlib\r\n",
        "import matplotlib.pyplot as plt\r\n",
        "X=[1,2,3,4 ]\r\n",
        "Y=[0.52,0.61,0.64,0.74]\r\n",
        "plt.plot(X,Y)\r\n",
        "plt.ylabel('Accuracy')\r\n",
        "plt.xlabel('Number of hidden layer')\r\n",
        "plt.show()"
      ],
      "execution_count": null,
      "outputs": [
        {
          "output_type": "display_data",
          "data": {
            "image/png": "[encoded data removed]",
            "text/plain": [
              "<Figure size 432x288 with 1 Axes>"
            ]
          },
          "metadata": {
            "tags": [],
            "needs_background": "light"
          }
        }
      ]
    }
  ]
}