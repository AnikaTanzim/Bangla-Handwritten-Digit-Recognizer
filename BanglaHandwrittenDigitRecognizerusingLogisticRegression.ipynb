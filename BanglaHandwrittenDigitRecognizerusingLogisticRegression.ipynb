{
  "nbformat": 4,
  "nbformat_minor": 0,
  "metadata": {
    "colab": {
      "name": "160204072_Problem#1.ipynb",
      "provenance": [],
      "collapsed_sections": [],
      "toc_visible": true
    },
    "kernelspec": {
      "name": "python3",
      "display_name": "Python 3"
    },
    "accelerator": "GPU"
  },
  "cells": [
    {
      "cell_type": "markdown",
      "metadata": {
        "id": "-_WNDMi_khaa"
      },
      "source": [
        "#Problem#1 : Bangla Hand Written Digit Recognizer\r\n",
        "Appling only **logistic** regression for the **NumtaDB** dataset and building a **multiclass** classification model that can recognize [0-9] Bengali handwritten digits with different hyperparameter settings.\r\n",
        "\r\n",
        "##Logistic Regression for multiclass classification:\r\n",
        "**Logistic** regression is a very popular machine learning technique. Logistic regression is used when the dependent variable is categorical.\r\n",
        "The **goal** of logistic regression is to minimize the error between its\r\n",
        "predictions and training data. \r\n",
        "if given x feature vector,\r\n",
        "\r\n",
        "$\\;\\;\\;Y=P(y=1|x), \\;where\\; 0<=Y<=1$\r\n",
        "\r\n",
        "Logistic regression uses a **sigmoid** function to predict the output. The sigmoid function returns a value from 0 to 1.\r\n",
        "\r\n",
        "$\\;\\;\\;s=\\sigma (w^Tx+b)=\\sigma(z)=\\frac{1}{1+e^{-z}}$\r\n",
        "\r\n",
        "The implementation of **Multiclass** classification follows the same ideas as the binary classification.In multi-class classification, we have more than two classes. \r\n",
        "\r\n",
        "For multiple classes, logistic regression uses a **softmax** function to predict the output. Applying the softmax function, it gives an array of result. These represent the probability for the data point belonging to each class. The sum of all the values in the result array is 1.\r\n",
        "\r\n",
        "\r\n",
        "$\\;\\;\\;a_i=\\frac{e^{z_i}}{\\sum^c_{k=1}   e^{-z_k}}$\r\n",
        "$\\;\\;\\;where \\sum^c_{i=1} a_i =1 $\r\n",
        "\r\n",
        "Here, we are implementing Bangla Handwritten Digit Recognizer using logistic regression.For this, we need image as input and we have 10 classes(0-9) as output. So, we are implementig multi-class classification.\r\n",
        "\r\n",
        "##Dataset: \r\n",
        "One of the key topics of NLP is optical character recognition (OCR). To build an OCR in Bengali language, digit classification provides a convenient starting point. **NumtaDB** s a large dataset (85,000+) of Bengali digits which can be used by researchers for benchmarking their algorithm.\r\n",
        "\r\n",
        "<div align=\"center\">\r\n",
        "<img src=\"https://drive.google.com/uc?id=1LvkNwV1My2RniR_JsbasBET1fa97eMQu\" width=\"500\">\r\n",
        "</div>\r\n",
        "\r\n",
        "- **input dimension:**\r\n",
        "  - Size of an image: $28 \\times 28 = 744$\r\n",
        "- **output dimension: 10**\r\n",
        "  - 0,1,2,3,4,5,6,7,8,9\r\n",
        "\r\n",
        "\r\n",
        "The steps to implement bangla hand written digit recognizer will be the following:"
      ]
    },
    {
      "cell_type": "markdown",
      "metadata": {
        "id": "e6OwH8tgYERm"
      },
      "source": [
        "##Step#1: Load the dataset\r\n",
        "The NumtaDb dataset is directly loaded from Kaggle. "
      ]
    },
    {
      "cell_type": "code",
      "metadata": {
        "colab": {
          "base_uri": "https://localhost:8080/"
        },
        "id": "MiWWWFdRMadK",
        "outputId": "232a0cbb-e063-461d-c2f7-cdc4af1af809"
      },
      "source": [
        "!pip install kaggle\r\n"
      ],
      "execution_count": null,
      "outputs": [
        {
          "output_type": "stream",
          "text": [
            "Requirement already satisfied: kaggle in /usr/local/lib/python3.6/dist-packages (1.5.10)\n",
            "Requirement already satisfied: requests in /usr/local/lib/python3.6/dist-packages (from kaggle) (2.23.0)\n",
            "Requirement already satisfied: python-slugify in /usr/local/lib/python3.6/dist-packages (from kaggle) (4.0.1)\n",
            "Requirement already satisfied: urllib3 in /usr/local/lib/python3.6/dist-packages (from kaggle) (1.24.3)\n",
            "Requirement already satisfied: six>=1.10 in /usr/local/lib/python3.6/dist-packages (from kaggle) (1.15.0)\n",
            "Requirement already satisfied: certifi in /usr/local/lib/python3.6/dist-packages (from kaggle) (2020.12.5)\n",
            "Requirement already satisfied: tqdm in /usr/local/lib/python3.6/dist-packages (from kaggle) (4.41.1)\n",
            "Requirement already satisfied: python-dateutil in /usr/local/lib/python3.6/dist-packages (from kaggle) (2.8.1)\n",
            "Requirement already satisfied: chardet<4,>=3.0.2 in /usr/local/lib/python3.6/dist-packages (from requests->kaggle) (3.0.4)\n",
            "Requirement already satisfied: idna<3,>=2.5 in /usr/local/lib/python3.6/dist-packages (from requests->kaggle) (2.10)\n",
            "Requirement already satisfied: text-unidecode>=1.3 in /usr/local/lib/python3.6/dist-packages (from python-slugify->kaggle) (1.3)\n"
          ],
          "name": "stdout"
        }
      ]
    },
    {
      "cell_type": "code",
      "metadata": {
        "colab": {
          "resources": {
            "http://localhost:8080/nbextensions/google.colab/files.js": {
              "data": "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",
              "ok": true,
              "headers": [
                [
                  "content-type",
                  "application/javascript"
                ]
              ],
              "status": 200,
              "status_text": ""
            }
          },
          "base_uri": "https://localhost:8080/",
          "height": 90
        },
        "id": "FqgGjMywMgK6",
        "outputId": "f57ebb90-ecbb-47f5-924d-a0caa1b1d7e3"
      },
      "source": [
        "from google.colab import files\r\n",
        "files.upload()"
      ],
      "execution_count": null,
      "outputs": [
        {
          "output_type": "display_data",
          "data": {
            "text/html": [
              "\n",
              "     <input type=\"file\" id=\"files-af9fa1d6-e849-4faa-b210-2d00785e9abd\" name=\"files[]\" multiple disabled\n",
              "        style=\"border:none\" />\n",
              "     <output id=\"result-af9fa1d6-e849-4faa-b210-2d00785e9abd\">\n",
              "      Upload widget is only available when the cell has been executed in the\n",
              "      current browser session. Please rerun this cell to enable.\n",
              "      </output>\n",
              "      <script src=\"/nbextensions/google.colab/files.js\"></script> "
            ],
            "text/plain": [
              "<IPython.core.display.HTML object>"
            ]
          },
          "metadata": {
            "tags": []
          }
        },
        {
          "output_type": "stream",
          "text": [
            "Saving kaggle.json to kaggle.json\n"
          ],
          "name": "stdout"
        },
        {
          "output_type": "execute_result",
          "data": {
            "text/plain": [
              "{'kaggle.json': b'{\"username\":\"anikatanzimaboni\",\"key\":\"13fc7f14dc7fd8e9f087e64c6b2a14f2\"}'}"
            ]
          },
          "metadata": {
            "tags": []
          },
          "execution_count": 4
        }
      ]
    },
    {
      "cell_type": "code",
      "metadata": {
        "id": "zvDmcKgwMkVI"
      },
      "source": [
        "!mkdir -p ~/.kaggle\r\n",
        "!cp kaggle.json ~/.kaggle/\r\n",
        "!chmod 600 ~/.kaggle/kaggle.json # changing permission"
      ],
      "execution_count": null,
      "outputs": []
    },
    {
      "cell_type": "code",
      "metadata": {
        "colab": {
          "base_uri": "https://localhost:8080/"
        },
        "id": "BeGmafr3Mmqr",
        "outputId": "57bcc51b-add6-4038-c284-8c3a5f19590a"
      },
      "source": [
        "!kaggle datasets download -d BengaliAI/numta"
      ],
      "execution_count": null,
      "outputs": [
        {
          "output_type": "stream",
          "text": [
            "Downloading numta.zip to /content\n",
            "100% 1.91G/1.91G [00:18<00:00, 37.4MB/s]\n",
            "100% 1.91G/1.91G [00:19<00:00, 107MB/s] \n"
          ],
          "name": "stdout"
        }
      ]
    },
    {
      "cell_type": "markdown",
      "metadata": {
        "id": "K0vO1MxUapn0"
      },
      "source": [
        "**numta.zip** file is downloaded from Kaggle directly. After unzipping it, we get the actual dataset."
      ]
    },
    {
      "cell_type": "code",
      "metadata": {
        "colab": {
          "base_uri": "https://localhost:8080/"
        },
        "id": "E6DPCAzqMojT",
        "outputId": "596f7e8c-b8fa-4f08-8630-cf7f3b9cc7c8"
      },
      "source": [
        "from zipfile import ZipFile\r\n",
        "f_name= 'numta.zip'\r\n",
        "with ZipFile(f_name,'r') as zip:\r\n",
        "  zip.extractall()\r\n",
        "  print('Done')"
      ],
      "execution_count": null,
      "outputs": [
        {
          "output_type": "stream",
          "text": [
            "Done\n"
          ],
          "name": "stdout"
        }
      ]
    },
    {
      "cell_type": "code",
      "metadata": {
        "id": "8FIC8KTGMpVQ"
      },
      "source": [
        "import torch\r\n",
        "import torch.nn as nn\r\n",
        "import torch.nn.functional as F\r\n",
        "import torchvision\r\n",
        "import torchvision.transforms as transforms\r\n",
        "import torchvision.datasets as dsets\r\n",
        "import os\r\n",
        "from os import path\r\n",
        "import shutil"
      ],
      "execution_count": null,
      "outputs": []
    },
    {
      "cell_type": "markdown",
      "metadata": {
        "id": "MLMDFcFybjl5"
      },
      "source": [
        "In the dataset, the sources are labeled from 'a' to 'e'. The training sets have separate subsets depending on the source of the data (training-a, training-b, etc.) and the details are also in different csv files (training-a.csv, training-b.csv, etc.)"
      ]
    },
    {
      "cell_type": "code",
      "metadata": {
        "id": "xckL9lYrMsrL"
      },
      "source": [
        "def showRawTrainingSamples(csv_filename):\r\n",
        "  df = pd.read_csv(csv_filename)\r\n",
        "  print(csv_filename)\r\n",
        "  print(df.columns)\r\n",
        "  return df"
      ],
      "execution_count": null,
      "outputs": []
    },
    {
      "cell_type": "code",
      "metadata": {
        "colab": {
          "base_uri": "https://localhost:8080/"
        },
        "id": "lKRcPqioMuv2",
        "outputId": "b8235b44-9fa7-40bc-82a1-f85c5891bb83"
      },
      "source": [
        "import pandas as pd\r\n",
        "a_csv = showRawTrainingSamples('training-a.csv')\r\n",
        "b_csv = showRawTrainingSamples('training-b.csv')\r\n",
        "c_csv = showRawTrainingSamples('training-c.csv')\r\n",
        "d_csv = showRawTrainingSamples('training-d.csv')\r\n",
        "e_csv = showRawTrainingSamples('training-e.csv')"
      ],
      "execution_count": null,
      "outputs": [
        {
          "output_type": "stream",
          "text": [
            "training-a.csv\n",
            "Index(['filename', 'original filename', 'scanid', 'digit',\n",
            "       'database name original', 'contributing team', 'database name'],\n",
            "      dtype='object')\n",
            "training-b.csv\n",
            "Index(['filename', 'original filename', 'scanid', 'digit',\n",
            "       'database name original', 'contributing team', 'database name'],\n",
            "      dtype='object')\n",
            "training-c.csv\n",
            "Index(['filename', 'original filename', 'scanid', 'digit',\n",
            "       'database name original', 'contributing team', 'database name'],\n",
            "      dtype='object')\n",
            "training-d.csv\n",
            "Index(['original filename', 'scanid', 'digit', 'num', 'database name original',\n",
            "       'database name', 'filename'],\n",
            "      dtype='object')\n",
            "training-e.csv\n",
            "Index(['filename', 'original filename', 'districtid', 'institutionid',\n",
            "       'gender', 'age', 'datestamp', 'scanid', 'digit',\n",
            "       'database name original', 'database name'],\n",
            "      dtype='object')\n"
          ],
          "name": "stdout"
        }
      ]
    },
    {
      "cell_type": "markdown",
      "metadata": {
        "id": "SDgXoReRchq7"
      },
      "source": [
        "From the csv files, we only need the information of the file names and their labels which column names are '**filename**' and '**digit**' respectively. So we truncate the data."
      ]
    },
    {
      "cell_type": "code",
      "metadata": {
        "id": "kOtcaSwPM2ia"
      },
      "source": [
        "def truncateColumns(csv_file):\r\n",
        "  csv_file = csv_file[['filename', 'digit']]\r\n",
        "  print('Done')\r\n",
        "  return csv_file"
      ],
      "execution_count": null,
      "outputs": []
    },
    {
      "cell_type": "code",
      "metadata": {
        "colab": {
          "base_uri": "https://localhost:8080/"
        },
        "id": "xK5-jdC6M9BH",
        "outputId": "e128ab4a-b31b-46fd-b734-8d2a7cb76395"
      },
      "source": [
        "a_csv = truncateColumns(a_csv)\r\n",
        "b_csv = truncateColumns(b_csv)\r\n",
        "c_csv = truncateColumns(c_csv)\r\n",
        "d_csv = truncateColumns(d_csv)\r\n",
        "e_csv = truncateColumns(e_csv)"
      ],
      "execution_count": null,
      "outputs": [
        {
          "output_type": "stream",
          "text": [
            "Done\n",
            "Done\n",
            "Done\n",
            "Done\n",
            "Done\n"
          ],
          "name": "stdout"
        }
      ]
    },
    {
      "cell_type": "markdown",
      "metadata": {
        "id": "5RHyPFxBdF1s"
      },
      "source": [
        "All the csv files are merged into one for further process. So, in total, there are 72045 data for training and testing the model."
      ]
    },
    {
      "cell_type": "code",
      "metadata": {
        "colab": {
          "base_uri": "https://localhost:8080/"
        },
        "id": "DlcSqyudNCbr",
        "outputId": "0a87bc39-509e-418b-e7b6-15b5170c815a"
      },
      "source": [
        "total_csv = [a_csv,b_csv,c_csv,d_csv,e_csv]\r\n",
        "merged_csv = pd.concat(total_csv)\r\n",
        "print(len(merged_csv))"
      ],
      "execution_count": null,
      "outputs": [
        {
          "output_type": "stream",
          "text": [
            "72045\n"
          ],
          "name": "stdout"
        }
      ]
    },
    {
      "cell_type": "markdown",
      "metadata": {
        "id": "ZbdVEKc0dyle"
      },
      "source": [
        "Similarly, all  the images from different directory are merged into one directory named \"**trainAll2**\"."
      ]
    },
    {
      "cell_type": "code",
      "metadata": {
        "id": "sYAcFesHNIot"
      },
      "source": [
        "TRAIN_PATH = 'trainALL2'\r\n",
        "os.mkdir(TRAIN_PATH) #creating the directory\r\n",
        "\r\n",
        "def processImages(folder_name):\r\n",
        "  src = folder_name + '/'\r\n",
        "  dir_folders = os.listdir(src)\r\n",
        "  for dir_name in dir_folders:\r\n",
        "    file_name = os.path.join(src, dir_name)\r\n",
        "    if os.path.isfile(file_name):\r\n",
        "      shutil.copy(file_name, TRAIN_PATH) #images are copied to trainAll2\r\n"
      ],
      "execution_count": null,
      "outputs": []
    },
    {
      "cell_type": "code",
      "metadata": {
        "colab": {
          "base_uri": "https://localhost:8080/"
        },
        "id": "VgCm3-QfNeGq",
        "outputId": "cded42ae-a5de-4251-a716-fcd807cc3320"
      },
      "source": [
        "\r\n",
        "processImages('training-a')\r\n",
        "print('A Done')\r\n",
        "processImages('training-c')\r\n",
        "print('C Done')\r\n",
        "processImages('training-d')\r\n",
        "print('D Done')"
      ],
      "execution_count": null,
      "outputs": [
        {
          "output_type": "stream",
          "text": [
            "A Done\n",
            "C Done\n",
            "D Done\n"
          ],
          "name": "stdout"
        }
      ]
    },
    {
      "cell_type": "code",
      "metadata": {
        "colab": {
          "base_uri": "https://localhost:8080/"
        },
        "id": "DNxm5eLMPXgS",
        "outputId": "4340cbac-2236-4322-9ff7-d8a2a5673e08"
      },
      "source": [
        "processImages('training-b')\r\n",
        "print('B Done')\r\n",
        "processImages('training-e')\r\n",
        "print('E Done')"
      ],
      "execution_count": null,
      "outputs": [
        {
          "output_type": "stream",
          "text": [
            "B Done\n",
            "E Done\n"
          ],
          "name": "stdout"
        }
      ]
    },
    {
      "cell_type": "markdown",
      "metadata": {
        "id": "lGbee_4be8i4"
      },
      "source": [
        "##Step#2: Prepare (augment) the dataset\r\n",
        "The loaded dataset is still non trival. PyTorch provides many tools to make data loading easy and hopefully, to make the code more readable. \r\n"
      ]
    },
    {
      "cell_type": "code",
      "metadata": {
        "id": "IINdrHAbNjEh"
      },
      "source": [
        "import torch.optim as optim\r\n",
        "from torch.utils.data import Dataset\r\n",
        "from torch.utils.data.sampler import SubsetRandomSampler\r\n",
        "from torchvision import datasets, transforms, models\r\n",
        "import matplotlib\r\n",
        "import matplotlib.pyplot as plt\r\n",
        "from PIL import Image"
      ],
      "execution_count": null,
      "outputs": []
    },
    {
      "cell_type": "markdown",
      "metadata": {
        "id": "j7MJADC8e7S4"
      },
      "source": [
        "###Custom Dataset Class\r\n",
        "\r\n",
        "**`torch.utils.data.Dataset`** is an abstract class representing a dataset. To prepare the dataset, we need a** custom Dataset Class**. Our custom dataset should inherit Dataset and override the following methods:\r\n",
        "\r\n",
        "- **`__len__`** so that len(dataset) returns the size of our dataset.\r\n",
        "\r\n",
        "- **`__getitem__`** to support the indexing such that dataset[i] can be used to get ith sample. \r\n",
        "We will read the csv in` __init__` but leave the reading of images to `__getitem__`.\r\n"
      ]
    },
    {
      "cell_type": "code",
      "metadata": {
        "id": "m7VVgtENNnm1"
      },
      "source": [
        "class Dataset(Dataset):\r\n",
        "    def __init__(self, df, root, transform=None):\r\n",
        "        self.data = df\r\n",
        "        self.root = root\r\n",
        "        self.transform = transform\r\n",
        "\r\n",
        "        \"\"\"\r\n",
        "            df : Path to the csv file with annotations.\r\n",
        "            root : Directory with all the images.\r\n",
        "            transform : Optional transform to be appliedon a sample.\r\n",
        "        \"\"\"\r\n",
        "        \r\n",
        "    def __len__(self):\r\n",
        "        return len(self.data)\r\n",
        "    \r\n",
        "    def __getitem__(self, index):\r\n",
        "        item = self.data.iloc[index]\r\n",
        "        \r\n",
        "        path = self.root + \"/\" + item[0]\r\n",
        "        image = Image.open(path).convert('L')\r\n",
        "        label = item[1]\r\n",
        "        \r\n",
        "        if self.transform is not None:\r\n",
        "            image = self.transform(image)\r\n",
        "            \r\n",
        "        return image, label"
      ],
      "execution_count": null,
      "outputs": []
    },
    {
      "cell_type": "markdown",
      "metadata": {
        "id": "QfXjh9nBnICj"
      },
      "source": [
        "###Compose Transforms\r\n",
        "The samples are not of the same size. Our model expect the images of a fixed size. `torchvision.transforms.Compose` is a simple callable class which allows us to do this.\r\n",
        "\r\n",
        "- **Resize((28,28))** resize/crop the image to 28*28 dimension\r\n",
        "- **ToTensor()** takes a PIL image (or np.int8 NumPy array) with shape (n_rows, n_cols, n_channels) as input and returns a PyTorch tensor with floats between 0 and 1 and shape (n_channels, n_rows, n_cols).\r\n",
        "- **Normalize(mean,std)** subtracts the mean and divides by the standard deviation of the floating point values in the range [0, 1].\r\n",
        "- As mean =0.5 and std =0.5, an image is normalized to [-1,1] here."
      ]
    },
    {
      "cell_type": "code",
      "metadata": {
        "colab": {
          "base_uri": "https://localhost:8080/"
        },
        "id": "5S5Q-GVnNq70",
        "outputId": "4181ed33-380d-4dab-c4fb-7d4e485d62c4"
      },
      "source": [
        "mean = [0.5,]\r\n",
        "std = [0.5, ]\r\n",
        "\r\n",
        "train_transform = transforms.Compose([\r\n",
        "    transforms.Resize((28,28)),\r\n",
        "    transforms.ToTensor(),\r\n",
        "    transforms.Normalize(mean, std)\r\n",
        "])\r\n",
        "\r\n",
        "test_transform = transforms.Compose([\r\n",
        "        transforms.Resize((28,28)),\r\n",
        "        transforms.ToTensor(),\r\n",
        "        transforms.Normalize(mean, std)\r\n",
        "])\r\n",
        "\r\n",
        "'''Instantiate the Dataset Class'''\r\n",
        "train_dataset  = Dataset(merged_csv, TRAIN_PATH, train_transform)\r\n",
        "test_dataset = Dataset(merged_csv, TRAIN_PATH, test_transform)\r\n",
        "\r\n",
        "print(\"Trainig Samples: \",len(train_dataset))"
      ],
      "execution_count": null,
      "outputs": [
        {
          "output_type": "stream",
          "text": [
            "Trainig Samples:  72045\n"
          ],
          "name": "stdout"
        }
      ]
    },
    {
      "cell_type": "markdown",
      "metadata": {
        "id": "3jC6SZr8jLTl"
      },
      "source": [
        "##step#3 : Make Data Iterable\r\n",
        "- We split the training set to 90% and test set to 10%. That means a 90:10 ratio. To split the data we have used **`torch.utils.data.sampler`** class.\r\n",
        "- We will use the **DataLoader** class to make our dataset iterable. "
      ]
    },
    {
      "cell_type": "code",
      "metadata": {
        "colab": {
          "base_uri": "https://localhost:8080/"
        },
        "id": "5dW5cPFvNsCv",
        "outputId": "7ac57092-2d5f-48bc-c2aa-7d08fcffff52"
      },
      "source": [
        "import numpy as np\r\n",
        "#batch size\r\n",
        "#batch_size = 100\r\n",
        "batch_size = 64\r\n",
        "#batch_size = 32 \r\n",
        "#batch_size=45\r\n",
        "# split data 10% for testing\r\n",
        "test_size = 0.1\r\n",
        "\r\n",
        "# obtain training indices that will be used for validation\r\n",
        "len_train = len(train_dataset)\r\n",
        "\r\n",
        "# mix data\r\n",
        "# index of num of train\r\n",
        "indices = list(range(len_train))\r\n",
        "# random the index\r\n",
        "np.random.shuffle(indices)\r\n",
        "split = int(np.floor(test_size * len_train))\r\n",
        "# divied into two part\r\n",
        "train_idx, test_idx = indices[split:], indices[:split]\r\n",
        "\r\n",
        "# define the sampler\r\n",
        "train_sampler = SubsetRandomSampler(train_idx)\r\n",
        "test_sampler = SubsetRandomSampler(test_idx)\r\n",
        "\r\n",
        "# prepare loaders\r\n",
        "train_loader = torch.utils.data.DataLoader(\r\n",
        "    train_dataset, batch_size=batch_size,\r\n",
        "    sampler=train_sampler) #No need to shuffle here, because sampler has shuffled data already\r\n",
        "\r\n",
        "test_loader = torch.utils.data.DataLoader(\r\n",
        "    test_dataset, batch_size=batch_size,\r\n",
        "    sampler=test_sampler)\r\n",
        "\r\n",
        "print(\"Train dataloader:{}\".format(len(train_loader)))\r\n",
        "print(\"Test dataloader:{}\".format(len(test_loader)))"
      ],
      "execution_count": null,
      "outputs": [
        {
          "output_type": "stream",
          "text": [
            "Train dataloader:1014\n",
            "Test dataloader:113\n"
          ],
          "name": "stdout"
        }
      ]
    },
    {
      "cell_type": "markdown",
      "metadata": {
        "id": "NbL34xd2rcNU"
      },
      "source": [
        "Showing the information of one sample data and the images:"
      ]
    },
    {
      "cell_type": "code",
      "metadata": {
        "colab": {
          "base_uri": "https://localhost:8080/"
        },
        "id": "2OG10yNrNzg-",
        "outputId": "01f12427-6ad2-44ce-f6cf-2f1b24dc9683"
      },
      "source": [
        "'''Informations of one sample data'''\r\n",
        "# One Image Size\r\n",
        "print(train_dataset[22][0].size())\r\n",
        "print(train_dataset[22][0].numpy().shape)\r\n",
        "# First Image Label\r\n",
        "print(train_dataset[22][1])"
      ],
      "execution_count": null,
      "outputs": [
        {
          "output_type": "stream",
          "text": [
            "torch.Size([1, 28, 28])\n",
            "(1, 28, 28)\n",
            "6\n"
          ],
          "name": "stdout"
        }
      ]
    },
    {
      "cell_type": "code",
      "metadata": {
        "id": "drxPZf7eN09N"
      },
      "source": [
        "import matplotlib.pyplot as plt \r\n",
        "import numpy as np\r\n",
        "\r\n",
        "print(\"Label:\")\r\n",
        "print(train_dataset[0][1])\r\n",
        "show_img = train_dataset[0][0].numpy().reshape(28, 28)\r\n",
        "plt.imshow(show_img, cmap='gray')"
      ],
      "execution_count": null,
      "outputs": []
    },
    {
      "cell_type": "code",
      "metadata": {
        "id": "hG6pOOoCN8KV"
      },
      "source": [
        "print(\"Label:\")\r\n",
        "print(train_dataset[201][1])\r\n",
        "\r\n",
        "show_img = train_dataset[201][0].numpy().reshape(28, 28)\r\n",
        "plt.imshow(show_img, cmap='gray')"
      ],
      "execution_count": null,
      "outputs": []
    },
    {
      "cell_type": "markdown",
      "metadata": {
        "id": "fQ1mTWu8rxn2"
      },
      "source": [
        "##Step#4: Create the Model Class\r\n",
        "\r\n",
        "In order to set up the model class, we need to initialize the model type and declare the forward pass. \r\n",
        "\r\n",
        "We initialize our model with this linear layer: **`torch.nn.Linear(input_size, num_classes)`** which\r\n",
        "applies a linear transformation to the incoming data:  $y=W^T∗x+b$.\r\n",
        "\r\n",
        "Parameters:\r\n",
        "\r\n",
        "- input_size – size of each input sample (i.e. size of x)\r\n",
        "- num_classes – size of each output sample (i.e. size of y)\r\n",
        "- bias – If set to False, the layer will not learn an additive bias. Default: True\r\n",
        "\r\n",
        "Next is to define the forward pass function. The forward pass refers to the calculation process of the output data from the input. The function takes x as its input and outputs the logits. \r\n",
        "\r\n",
        "We can simply apply **`functional.softmax`** to our current linear output from the forward pass: **`probas = functional.softmax(logits,dim=1)`**. Probas will be the predicted Y.\r\n",
        "\r\n",
        "Softmax is used because it is a multi class classification for logistic regression.\r\n",
        "\r\n",
        "The complete model class is defined below:"
      ]
    },
    {
      "cell_type": "code",
      "metadata": {
        "id": "zGQzrGu7OACr"
      },
      "source": [
        "class LogisticRegressionModel(nn.Module):\r\n",
        "    def __init__(self, input_size, num_classes):\r\n",
        "        super().__init__()\r\n",
        "        self.linear = nn.Linear(input_size, num_classes)\r\n",
        "        \"\"\"\r\n",
        "          In the forward function we accept a Variable of input data and we must return\r\n",
        "          a Variable of output data. We can use Modules defined in the constructor as\r\n",
        "          well as arbitrary operators on Variables.\r\n",
        "        \"\"\"\r\n",
        "    def forward(self, x):\r\n",
        "        logits  = self.linear(x)\r\n",
        "        probas = F.softmax(logits, dim=1)\r\n",
        "        return logits, probas"
      ],
      "execution_count": null,
      "outputs": []
    },
    {
      "cell_type": "markdown",
      "metadata": {
        "id": "XaNiXpgfsMXH"
      },
      "source": [
        "##Step#5:Instantiate the Model Class\r\n",
        "\r\n",
        "####**Modelparameter:**\r\n",
        "Model parameters are learned during training when we optimize a loss function using something like gradient descent.\r\n",
        "\r\n",
        "####**Hyperparameter:**\r\n",
        "Parameters which define the model architecture are referred to as hyperparameters. Hyperparameters are not model parameters and they cannot be directly trained from the data. \r\n",
        "These values are fixed before the training of the data begins. They deal with parameters such as learning_rate,num_iters etc.\r\n",
        "\r\n",
        "- **learning_rate**: How quickly the model should be able to learn, how complicated the model is, and so on. \r\n",
        "- **num_iters**: It is used to specify the number of combinations that are randomly tried. If num_iters is too less, finding the best combination is difficult, and if num_iters is too large, the processing time increases. It is important to find a balanced value for ‘n_iter’.\r\n",
        "  - **1 iteration**: One mini-batch forward & backward pass. That means a parameter (wights and biases) update. \r\n",
        "- **minibatch**:  Number of examples in 1 iteration\r\n",
        "- **epochs**: How many times we are running the dataset\r\n",
        "\r\n",
        "  - **1 epoch**: Running through the whole dataset once\r\n",
        "\r\n",
        "Before instantiation, we’ll initialize some hyperparameters like following."
      ]
    },
    {
      "cell_type": "code",
      "metadata": {
        "id": "3ZkoEr4OOA5K"
      },
      "source": [
        "# Hyperparameters\r\n",
        "\r\n",
        "batch_size = 45\r\n",
        "num_iters = 16010      #to get 10 epoch, per batch there is 1601 data\r\n",
        "input_dim = 28*28      # num_features = 784\r\n",
        "output_dim = 10\r\n",
        "\r\n",
        "learning_rate = 0.001\r\n",
        "# Device\r\n",
        "device = torch.device(\"cuda:0\" if torch.cuda.is_available() else \"cpu\")"
      ],
      "execution_count": null,
      "outputs": []
    },
    {
      "cell_type": "markdown",
      "metadata": {
        "id": "ES9AWVs81-rJ"
      },
      "source": [
        "Instantiating the model class and enabling GPU:"
      ]
    },
    {
      "cell_type": "code",
      "metadata": {
        "colab": {
          "base_uri": "https://localhost:8080/"
        },
        "id": "C-NgN0ajODGj",
        "outputId": "c15413ec-e833-4604-a461-8aa1ec688cb6"
      },
      "source": [
        "'''\r\n",
        "INSTANTIATE MODEL CLASS\r\n",
        "'''\r\n",
        "model = LogisticRegressionModel(input_size=input_dim,\r\n",
        "                                num_classes=output_dim)\r\n",
        "# To enable GPU\r\n",
        "model.to(device)"
      ],
      "execution_count": null,
      "outputs": [
        {
          "output_type": "execute_result",
          "data": {
            "text/plain": [
              "LogisticRegressionModel(\n",
              "  (linear): Linear(in_features=784, out_features=10, bias=True)\n",
              ")"
            ]
          },
          "metadata": {
            "tags": []
          },
          "execution_count": 27
        }
      ]
    },
    {
      "cell_type": "markdown",
      "metadata": {
        "id": "hOq4vhoIsTPP"
      },
      "source": [
        "##Step#6: Construct loss and optimizer (select from PyTorch API)\r\n",
        "\r\n",
        "We need Cross Entropy Loss to calculate our loss before we backpropagate and update our parameters.\r\n",
        "\r\n",
        "`criterion = nn.CrossEntropyLoss() ` \r\n",
        "\r\n",
        "It does 2 things at the same time.\r\n",
        "\r\n",
        "1. Computes softmax **([Logistic or Sigmoid]/softmax function)**\r\n",
        "2. Computes Cross Entropy Loss"
      ]
    },
    {
      "cell_type": "code",
      "metadata": {
        "id": "5zu3RP73OHHR"
      },
      "source": [
        "# INSTANTIATE OPTIMIZER CLASS\r\n",
        "optimizer = torch.optim.SGD(model.parameters(), lr=learning_rate)"
      ],
      "execution_count": null,
      "outputs": []
    },
    {
      "cell_type": "markdown",
      "metadata": {
        "id": "bEgrNNRc4Sn5"
      },
      "source": [
        "##Step #7 : Training: forward, loss, backward, step\r\n",
        "\r\n",
        "\r\n",
        "\r\n",
        "\r\n",
        "  \r\n",
        "\r\n"
      ]
    },
    {
      "cell_type": "markdown",
      "metadata": {
        "id": "AlRbcIvIAAxO"
      },
      "source": [
        "\r\n",
        "- Calling `.backward()` mutiple times accumulates the gradient (**by addition**) for each parameter. \r\n",
        "\r\n",
        "- This is why you should call `optimizer.zero_grad()` after each .step() call. \r\n",
        "\r\n",
        "- Note that following the first `.backward` call, a second call is only possible after you have performed another **forward pass**.\r\n",
        "\r\n",
        "- `optimizer.step` performs a parameter update based on the current gradient (**stored in .grad attribute of a parameter**)\r\n",
        "\r\n",
        "Simplified equation:\r\n",
        "\r\n",
        "- `parameters = parameters - learning_rate * parameters_gradients`\r\n",
        "- parameters $W$ and $b$ in ($y = W^T * x + b$)\r\n",
        "- $\\theta = \\theta - \\eta \\cdot \\nabla_\\theta$  [ General parameter $\\theta$ ]\r\n",
        "  *  $\\theta$ : parameters (our variables)\r\n",
        "  *  $\\eta$ : learning rate (how fast we want to learn)\r\n",
        "  *  $\\nabla_\\theta$ : parameters' gradients"
      ]
    },
    {
      "cell_type": "markdown",
      "metadata": {
        "id": "E6awpyoCAzjA"
      },
      "source": [
        "This traing is done with tuning the hyperparameters. We have done the training in 3 settings.\r\n",
        "\r\n",
        "###Setting 1: Accuracy32%\r\n",
        "**batch =45,itr = 16010, lr=0.05**\r\n",
        "\r\n",
        "\r\n"
      ]
    },
    {
      "cell_type": "code",
      "metadata": {
        "id": "C6Yn9UC1OJJ8"
      },
      "source": [
        "'''\r\n",
        "TRAIN THE MODEL\r\n",
        "'''\r\n",
        "num_epochs = num_iters / (len(train_dataset) / batch_size)\r\n",
        "num_epochs = int(num_epochs)\r\n",
        "print(num_epochs)\r\n",
        "iteration_loss = []\r\n",
        "iter = 0\r\n",
        "for epoch in range(num_epochs):\r\n",
        "    for i, (images, labels) in enumerate(train_loader):\r\n",
        "\r\n",
        "        images = images.view(-1, 28*28).to(device)\r\n",
        "        labels = labels.to(device)\r\n",
        "\r\n",
        "        # Clear gradients w.r.t. parameters\r\n",
        "        optimizer.zero_grad()\r\n",
        "\r\n",
        "        # Forward pass to get output/logits\r\n",
        "        logits, probas = model(images) \r\n",
        "\r\n",
        "        # Calculate Loss: PyTorch implementation of CrossEntropyLoss works with logits, not probabilities\r\n",
        "        loss = F.cross_entropy(logits, labels)\r\n",
        "\r\n",
        "        # Getting gradients w.r.t. parameters\r\n",
        "        loss.backward()\r\n",
        "\r\n",
        "        # Updating parameters\r\n",
        "        optimizer.step()\r\n",
        "\r\n",
        "        iter += 1\r\n",
        "\r\n",
        "        if iter % 500 == 0:\r\n",
        "            # Calculate Accuracy         \r\n",
        "            correct = 0\r\n",
        "            total = 0\r\n",
        "            # Iterate through test dataset\r\n",
        "            for images, labels in test_loader:\r\n",
        "               \r\n",
        "                images = images.view(-1, 28*28).to(device)\r\n",
        "\r\n",
        "                # Forward pass only to get logits/output\r\n",
        "                logits, probas = model(images)\r\n",
        "\r\n",
        "                # Get predictions from the maximum value\r\n",
        "                _, predicted = torch.max(probas, 1)\r\n",
        "\r\n",
        "                # Total number of labels\r\n",
        "                total += labels.size(0)\r\n",
        "\r\n",
        "\r\n",
        "                # Total correct predictions\r\n",
        "                if torch.cuda.is_available():\r\n",
        "                    correct += (predicted.cpu() == labels.cpu()).sum() \r\n",
        "                else:\r\n",
        "                    correct += (predicted == labels).sum()\r\n",
        "\r\n",
        "            accuracy = 100 * correct.item() / total\r\n",
        "\r\n",
        "            # Print Loss\r\n",
        "            iteration_loss.append(loss.item())\r\n",
        "            print('Iteration: {}. Loss: {}. Accuracy: {}'.format(iter, loss.item(), accuracy))"
      ],
      "execution_count": null,
      "outputs": []
    },
    {
      "cell_type": "code",
      "metadata": {
        "id": "ESecyXUHhCa8"
      },
      "source": [
        "print(len(train_dataset))\r\n",
        "print('Iteration: {}. Loss: {}. Accuracy: {}'.format(iter, loss.item(), accuracy))"
      ],
      "execution_count": null,
      "outputs": []
    },
    {
      "cell_type": "markdown",
      "metadata": {
        "id": "2AP2WLzE_5vh"
      },
      "source": [
        "#### Plot of predicted and actual values"
      ]
    },
    {
      "cell_type": "code",
      "metadata": {
        "colab": {
          "base_uri": "https://localhost:8080/",
          "height": 229
        },
        "id": "RTpkU-xoOLTh",
        "outputId": "ff9484d6-5f23-4b7a-d216-055b8157dd37"
      },
      "source": [
        "import matplotlib\r\n",
        "import matplotlib.pyplot as plt\r\n",
        "\r\n",
        "print (iteration_loss)\r\n",
        "plt.plot(iteration_loss)\r\n",
        "plt.ylabel('Cross Entropy Loss')\r\n",
        "plt.xlabel('Iteration (in every 500)')\r\n",
        "plt.show()"
      ],
      "execution_count": null,
      "outputs": [
        {
          "output_type": "error",
          "ename": "NameError",
          "evalue": "ignored",
          "traceback": [
            "\u001b[0;31m---------------------------------------------------------------------------\u001b[0m",
            "\u001b[0;31mNameError\u001b[0m                                 Traceback (most recent call last)",
            "\u001b[0;32m<ipython-input-11-5a31dbf88577>\u001b[0m in \u001b[0;36m<module>\u001b[0;34m()\u001b[0m\n\u001b[1;32m      2\u001b[0m \u001b[0;32mimport\u001b[0m \u001b[0mmatplotlib\u001b[0m\u001b[0;34m.\u001b[0m\u001b[0mpyplot\u001b[0m \u001b[0;32mas\u001b[0m \u001b[0mplt\u001b[0m\u001b[0;34m\u001b[0m\u001b[0;34m\u001b[0m\u001b[0m\n\u001b[1;32m      3\u001b[0m \u001b[0;34m\u001b[0m\u001b[0m\n\u001b[0;32m----> 4\u001b[0;31m \u001b[0mprint\u001b[0m \u001b[0;34m(\u001b[0m\u001b[0miteration_loss\u001b[0m\u001b[0;34m)\u001b[0m\u001b[0;34m\u001b[0m\u001b[0;34m\u001b[0m\u001b[0m\n\u001b[0m\u001b[1;32m      5\u001b[0m \u001b[0mplt\u001b[0m\u001b[0;34m.\u001b[0m\u001b[0mplot\u001b[0m\u001b[0;34m(\u001b[0m\u001b[0miteration_loss\u001b[0m\u001b[0;34m)\u001b[0m\u001b[0;34m\u001b[0m\u001b[0;34m\u001b[0m\u001b[0m\n\u001b[1;32m      6\u001b[0m \u001b[0mplt\u001b[0m\u001b[0;34m.\u001b[0m\u001b[0mylabel\u001b[0m\u001b[0;34m(\u001b[0m\u001b[0;34m'Cross Entropy Loss'\u001b[0m\u001b[0;34m)\u001b[0m\u001b[0;34m\u001b[0m\u001b[0;34m\u001b[0m\u001b[0m\n",
            "\u001b[0;31mNameError\u001b[0m: name 'iteration_loss' is not defined"
          ]
        }
      ]
    },
    {
      "cell_type": "code",
      "metadata": {
        "colab": {
          "base_uri": "https://localhost:8080/"
        },
        "id": "25nTTp0aOSCk",
        "outputId": "6e3a34b2-3fd2-45ef-c8e8-2f3760dd7d4f"
      },
      "source": [
        "from google.colab import drive\r\n",
        "\r\n",
        "drive.mount('/content/gdrive')\r\n",
        "\r\n",
        "root_path = '/content/gdrive/My Drive/Soft Computing/'"
      ],
      "execution_count": null,
      "outputs": [
        {
          "output_type": "stream",
          "text": [
            "Mounted at /content/gdrive\n"
          ],
          "name": "stdout"
        }
      ]
    },
    {
      "cell_type": "markdown",
      "metadata": {
        "id": "rxuRKpw3BPyz"
      },
      "source": [
        "#### Saving Model to Directory"
      ]
    },
    {
      "cell_type": "code",
      "metadata": {
        "id": "Dx1MMojhOUQ7"
      },
      "source": [
        "import pickle\r\n",
        "save_model = True\r\n",
        "\r\n",
        "\r\n",
        "if save_model is True:\r\n",
        "    # Saves only parameters\r\n",
        "    # wights & biases\r\n",
        "    torch.save(model.state_dict(), root_path + 'Problem1_setting2.pkl') "
      ],
      "execution_count": null,
      "outputs": []
    },
    {
      "cell_type": "markdown",
      "metadata": {
        "id": "ZOGL1sLQBRzx"
      },
      "source": [
        "#### Loading Model "
      ]
    },
    {
      "cell_type": "code",
      "metadata": {
        "id": "SapQWIW8OWbA"
      },
      "source": [
        "load_model = True\r\n",
        "\r\n",
        "if load_model is True:\r\n",
        "    model.load_state_dict(torch.load(root_path + 'Problem1_setting2.pkl'))\r\n",
        "    print('Trained Model Loaded')"
      ],
      "execution_count": null,
      "outputs": []
    },
    {
      "cell_type": "code",
      "metadata": {
        "id": "i8SDb9CKOYa8"
      },
      "source": [
        "for images, labels in test_loader:\r\n",
        "    break\r\n",
        "    \r\n",
        "fig, ax = plt.subplots(1, 5)\r\n",
        "for i in range(5):\r\n",
        "    ax[i].imshow(images[i].view(28, 28), cmap=matplotlib.cm.binary)\r\n",
        "\r\n",
        "plt.show()"
      ],
      "execution_count": null,
      "outputs": []
    },
    {
      "cell_type": "code",
      "metadata": {
        "id": "jXGaHqyHOam5"
      },
      "source": [
        "_, predictions = model.forward(images[:5].view(-1, 28*28).to(device))\r\n",
        "predictions = torch.argmax(predictions, dim=1)\r\n",
        "print('Predicted labels', predictions.cpu().numpy())"
      ],
      "execution_count": null,
      "outputs": []
    },
    {
      "cell_type": "markdown",
      "metadata": {
        "id": "mBlisaQ-RlI5"
      },
      "source": [
        "Accuracy: 32%"
      ]
    },
    {
      "cell_type": "markdown",
      "metadata": {
        "id": "c1oBOAn5P8bX"
      },
      "source": [
        "###Setting2: Accuracy 35%\r\n",
        "**batch =32,itr = 26000, lr=0.01**\r\n",
        "\r\n",
        "To train the model again with this setting, we need to go bach to step 3 and 4. Then in Step 5 will change the setting with the follwing:"
      ]
    },
    {
      "cell_type": "code",
      "metadata": {
        "id": "V3Jw8iNBiqdO"
      },
      "source": [
        "# Hyperparameters\r\n",
        "\r\n",
        "batch_size = 32\r\n",
        "num_iters = 26000\r\n",
        "input_dim = 28*28 # num_features = 784\r\n",
        "output_dim = 10\r\n",
        "\r\n",
        "learning_rate = 0.01\r\n",
        "# Device\r\n",
        "device = torch.device(\"cuda:0\" if torch.cuda.is_available() else \"cpu\")"
      ],
      "execution_count": null,
      "outputs": []
    },
    {
      "cell_type": "markdown",
      "metadata": {
        "id": "q7Hv4L8cG93i"
      },
      "source": [
        "Now, we have to go to step 6 and then train the model like follwing:"
      ]
    },
    {
      "cell_type": "code",
      "metadata": {
        "id": "7EzGcybaizOz"
      },
      "source": [
        "num_epochs = num_iters / (len(train_dataset) / batch_size)\r\n",
        "num_epochs = int(num_epochs)\r\n",
        "print(num_epochs)"
      ],
      "execution_count": null,
      "outputs": []
    },
    {
      "cell_type": "code",
      "metadata": {
        "id": "z7WjDEO4iw3e"
      },
      "source": [
        "'''\r\n",
        "TRAIN THE MODEL\r\n",
        "'''\r\n",
        "\r\n",
        "iteration_loss = []\r\n",
        "iter = 0\r\n",
        "for epoch in range(num_epochs):\r\n",
        "    for i, (images, labels) in enumerate(train_loader):\r\n",
        "\r\n",
        "        images = images.view(-1, 28*28).to(device)\r\n",
        "        labels = labels.to(device)\r\n",
        "\r\n",
        "        # Clear gradients w.r.t. parameters\r\n",
        "        optimizer.zero_grad()\r\n",
        "\r\n",
        "        # Forward pass to get output/logits\r\n",
        "        logits, probas = model(images) \r\n",
        "\r\n",
        "        # Calculate Loss: PyTorch implementation of CrossEntropyLoss works with logits, not probabilities\r\n",
        "        loss = F.cross_entropy(logits, labels)\r\n",
        "\r\n",
        "        # Getting gradients w.r.t. parameters\r\n",
        "        loss.backward()\r\n",
        "\r\n",
        "        # Updating parameters\r\n",
        "        optimizer.step()\r\n",
        "\r\n",
        "        iter += 1\r\n",
        "\r\n",
        "        if iter % 500 == 0:\r\n",
        "            # Calculate Accuracy         \r\n",
        "            correct = 0\r\n",
        "            total = 0\r\n",
        "            # Iterate through test dataset\r\n",
        "            for images, labels in test_loader:\r\n",
        "               \r\n",
        "                images = images.view(-1, 28*28).to(device)\r\n",
        "\r\n",
        "                # Forward pass only to get logits/output\r\n",
        "                logits, probas = model(images)\r\n",
        "\r\n",
        "                # Get predictions from the maximum value\r\n",
        "                _, predicted = torch.max(probas, 1)\r\n",
        "\r\n",
        "                # Total number of labels\r\n",
        "                total += labels.size(0)\r\n",
        "\r\n",
        "\r\n",
        "                # Total correct predictions\r\n",
        "                if torch.cuda.is_available():\r\n",
        "                    correct += (predicted.cpu() == labels.cpu()).sum() \r\n",
        "                else:\r\n",
        "                    correct += (predicted == labels).sum()\r\n",
        "\r\n",
        "            accuracy = 100 * correct.item() / total\r\n",
        "\r\n",
        "            # Print Loss\r\n",
        "            iteration_loss.append(loss.item())\r\n",
        "            print('Iteration: {}. Loss: {}. Accuracy: {}'.format(iter, loss.item(), accuracy))\r\n",
        "print('Iteration: {}. Loss: {}. Accuracy: {}'.format(iter, loss.item(), accuracy))"
      ],
      "execution_count": null,
      "outputs": []
    },
    {
      "cell_type": "markdown",
      "metadata": {
        "id": "2xpoEHL_BsrT"
      },
      "source": [
        "#### Plot of predicted and actual values"
      ]
    },
    {
      "cell_type": "code",
      "metadata": {
        "id": "ysMIaJ--mur_"
      },
      "source": [
        "print (iteration_loss)\r\n",
        "plt.plot(iteration_loss)\r\n",
        "plt.ylabel('Cross Entropy Loss')\r\n",
        "plt.xlabel('Iteration (in every 500)')\r\n",
        "plt.show()"
      ],
      "execution_count": null,
      "outputs": []
    },
    {
      "cell_type": "markdown",
      "metadata": {
        "id": "QBphxH3OBt8L"
      },
      "source": [
        "#### Saving Model to Directory"
      ]
    },
    {
      "cell_type": "code",
      "metadata": {
        "id": "HGKcxLw9nKKJ"
      },
      "source": [
        "if save_model is True:\r\n",
        "    # Saves only parameters\r\n",
        "    # wights & biases\r\n",
        "    torch.save(model.state_dict(), root_path + 'Problem1_setting3.pkl') "
      ],
      "execution_count": null,
      "outputs": []
    },
    {
      "cell_type": "markdown",
      "metadata": {
        "id": "paw5H2heBy8o"
      },
      "source": [
        "#### LoadingModel"
      ]
    },
    {
      "cell_type": "code",
      "metadata": {
        "id": "iYa7k83XnPl1"
      },
      "source": [
        "load_model = True\r\n",
        "\r\n",
        "if load_model is True:\r\n",
        "    model.load_state_dict(torch.load(root_path + 'Problem1_setting3.pkl'))\r\n",
        "    print('Trained Model Loaded')"
      ],
      "execution_count": null,
      "outputs": []
    },
    {
      "cell_type": "code",
      "metadata": {
        "id": "s-cbCQJEnYzI"
      },
      "source": [
        "for images, labels in test_loader:\r\n",
        "    break\r\n",
        "    \r\n",
        "fig, ax = plt.subplots(1, 5)\r\n",
        "for i in range(5):\r\n",
        "    ax[i].imshow(images[i].view(28, 28), cmap=matplotlib.cm.binary)\r\n",
        "\r\n",
        "plt.show()"
      ],
      "execution_count": null,
      "outputs": []
    },
    {
      "cell_type": "code",
      "metadata": {
        "id": "ljnPdB-Cnfln"
      },
      "source": [
        "_, predictions = model.forward(images[:5].view(-1, 28*28).to(device))\r\n",
        "predictions = torch.argmax(predictions, dim=1)\r\n",
        "print('Predicted labels', predictions.cpu().numpy())"
      ],
      "execution_count": null,
      "outputs": []
    },
    {
      "cell_type": "markdown",
      "metadata": {
        "id": "Ehkp98RIniWR"
      },
      "source": [
        "Accuracy: 35%\r\n",
        "\r\n"
      ]
    },
    {
      "cell_type": "markdown",
      "metadata": {
        "id": "uPUm6hAAzxp4"
      },
      "source": [
        "###Setting 3: Accuracy 29%\r\n",
        "\r\n",
        "**batch =64,itr = 12000, lr=0.05**\r\n",
        "\r\n",
        "To train the model againn with this setting, we need to go bach to step 3 and 4. Then in Step 5 will change the setting with the follwing:"
      ]
    },
    {
      "cell_type": "code",
      "metadata": {
        "id": "NWmu1SPJ2SyV"
      },
      "source": [
        "# Hyperparameters\r\n",
        "\r\n",
        "batch_size = 64\r\n",
        "num_iters = 12000\r\n",
        "input_dim = 28*28 # num_features = 784\r\n",
        "output_dim = 10\r\n",
        "\r\n",
        "learning_rate = 0.05\r\n",
        "# Device\r\n",
        "device = torch.device(\"cuda:0\" if torch.cuda.is_available() else \"cpu\")"
      ],
      "execution_count": null,
      "outputs": []
    },
    {
      "cell_type": "markdown",
      "metadata": {
        "id": "WlmbG2Dvkvtm"
      },
      "source": [
        "Now, we have to go to step 6 and then train the model like following:"
      ]
    },
    {
      "cell_type": "code",
      "metadata": {
        "id": "aXuSg3d65AwZ"
      },
      "source": [
        "num_epochs = num_iters / (len(train_dataset) / batch_size)\r\n",
        "num_epochs = int(num_epochs)\r\n",
        "print(num_epochs)"
      ],
      "execution_count": null,
      "outputs": []
    },
    {
      "cell_type": "code",
      "metadata": {
        "id": "ejhb8EGz2emB"
      },
      "source": [
        "'''\r\n",
        "TRAIN THE MODEL\r\n",
        "'''\r\n",
        "\r\n",
        "iteration_loss = []\r\n",
        "iter = 0\r\n",
        "for epoch in range(num_epochs):\r\n",
        "    for i, (images, labels) in enumerate(train_loader):\r\n",
        "\r\n",
        "        images = images.view(-1, 28*28).to(device)\r\n",
        "        labels = labels.to(device)\r\n",
        "\r\n",
        "        # Clear gradients w.r.t. parameters\r\n",
        "        optimizer.zero_grad()\r\n",
        "\r\n",
        "        # Forward pass to get output/logits\r\n",
        "        logits, probas = model(images) \r\n",
        "\r\n",
        "        # Calculate Loss: PyTorch implementation of CrossEntropyLoss works with logits, not probabilities\r\n",
        "        loss = F.cross_entropy(logits, labels)\r\n",
        "\r\n",
        "        # Getting gradients w.r.t. parameters\r\n",
        "        loss.backward()\r\n",
        "\r\n",
        "        # Updating parameters\r\n",
        "        optimizer.step()\r\n",
        "\r\n",
        "        iter += 1\r\n",
        "\r\n",
        "        if iter % 500 == 0:\r\n",
        "            # Calculate Accuracy         \r\n",
        "            correct = 0\r\n",
        "            total = 0\r\n",
        "            # Iterate through test dataset\r\n",
        "            for images, labels in test_loader:\r\n",
        "               \r\n",
        "                images = images.view(-1, 28*28).to(device)\r\n",
        "\r\n",
        "                # Forward pass only to get logits/output\r\n",
        "                logits, probas = model(images)\r\n",
        "\r\n",
        "                # Get predictions from the maximum value\r\n",
        "                _, predicted = torch.max(probas, 1)\r\n",
        "\r\n",
        "                # Total number of labels\r\n",
        "                total += labels.size(0)\r\n",
        "\r\n",
        "\r\n",
        "                # Total correct predictions\r\n",
        "                if torch.cuda.is_available():\r\n",
        "                    correct += (predicted.cpu() == labels.cpu()).sum() \r\n",
        "                else:\r\n",
        "                    correct += (predicted == labels).sum()\r\n",
        "\r\n",
        "            accuracy = 100 * correct.item() / total\r\n",
        "\r\n",
        "            # Print Loss\r\n",
        "            iteration_loss.append(loss.item())\r\n",
        "            print('Iteration: {}. Loss: {}. Accuracy: {}'.format(iter, loss.item(), accuracy))\r\n",
        "print('Iteration: {}. Loss: {}. Accuracy: {}'.format(iter, loss.item(), accuracy))"
      ],
      "execution_count": null,
      "outputs": []
    },
    {
      "cell_type": "markdown",
      "metadata": {
        "id": "YXNfPEwQA8Pb"
      },
      "source": [
        "####Plot of predicted and actual values"
      ]
    },
    {
      "cell_type": "code",
      "metadata": {
        "id": "zZ4c8XngBPrB"
      },
      "source": [
        "print (iteration_loss)\r\n",
        "plt.plot(iteration_loss)\r\n",
        "plt.ylabel('Cross Entropy Loss')\r\n",
        "plt.xlabel('Iteration (in every 500)')\r\n",
        "plt.show()"
      ],
      "execution_count": null,
      "outputs": []
    },
    {
      "cell_type": "markdown",
      "metadata": {
        "id": "P1yNjodGlaFH"
      },
      "source": [
        "####Saving Model to Directory"
      ]
    },
    {
      "cell_type": "code",
      "metadata": {
        "id": "sW3JwFX6BWxV"
      },
      "source": [
        "import pickle\r\n",
        "save_model = True\r\n",
        "\r\n",
        "\r\n",
        "if save_model is True:\r\n",
        "    # Saves only parameters\r\n",
        "    # wights & biases\r\n",
        "    torch.save(model.state_dict(), root_path + 'numta_logistic_setting8.pkl') "
      ],
      "execution_count": null,
      "outputs": []
    },
    {
      "cell_type": "markdown",
      "metadata": {
        "id": "zJBMQBiOlb1k"
      },
      "source": [
        "####Loading Model"
      ]
    },
    {
      "cell_type": "code",
      "metadata": {
        "id": "W11uxg-CBXI2"
      },
      "source": [
        "load_model = True\r\n",
        "\r\n",
        "if load_model is True:\r\n",
        "    model.load_state_dict(torch.load(root_path + 'numta_logistic_setting8.pkl'))\r\n",
        "    print('Trained Model Loaded')"
      ],
      "execution_count": null,
      "outputs": []
    },
    {
      "cell_type": "code",
      "metadata": {
        "id": "M4O8frKGBXLz"
      },
      "source": [
        "for images, labels in test_loader:\r\n",
        "    break\r\n",
        "    \r\n",
        "fig, ax = plt.subplots(1, 5)\r\n",
        "for i in range(5):\r\n",
        "    ax[i].imshow(images[i].view(28, 28), cmap=matplotlib.cm.binary)\r\n",
        "\r\n",
        "plt.show()\r\n",
        "\r\n",
        "_, predictions = model.forward(images[:5].view(-1, 28*28).to(device))\r\n",
        "predictions = torch.argmax(predictions, dim=1)\r\n",
        "print('Predicted labels', predictions.cpu().numpy())\r\n"
      ],
      "execution_count": null,
      "outputs": []
    },
    {
      "cell_type": "markdown",
      "metadata": {
        "id": "V1Sk_67UnY53"
      },
      "source": [
        "###Setting4: Accuracy 42%\r\n",
        "\r\n",
        "**batch =32,itr = 20000, lr=0.01**\r\n",
        "\r\n",
        "To train the model againn with this setting, we need to go bach to step 3 and 4. Then in Step 5 will change the setting with the follwing:"
      ]
    },
    {
      "cell_type": "code",
      "metadata": {
        "id": "w328YLl2ndpg"
      },
      "source": [
        "# Hyperparameters\r\n",
        "\r\n",
        "batch_size = 32\r\n",
        "num_iters = 20000\r\n",
        "input_dim = 28*28 # num_features = 784\r\n",
        "output_dim = 10\r\n",
        "\r\n",
        "learning_rate = 0.01\r\n",
        "# Device\r\n",
        "device = torch.device(\"cuda:0\" if torch.cuda.is_available() else \"cpu\")"
      ],
      "execution_count": null,
      "outputs": []
    },
    {
      "cell_type": "markdown",
      "metadata": {
        "id": "zpcUaTIInfm_"
      },
      "source": [
        "Now, we have to go to step 6 and then train the model like follwing:"
      ]
    },
    {
      "cell_type": "code",
      "metadata": {
        "id": "xG0i6JlmnnAr"
      },
      "source": [
        "num_epochs = num_iters / (len(train_dataset) / batch_size)\r\n",
        "num_epochs = int(num_epochs)\r\n",
        "print(num_epochs)"
      ],
      "execution_count": null,
      "outputs": []
    },
    {
      "cell_type": "code",
      "metadata": {
        "id": "U8aHY2jGnpwi"
      },
      "source": [
        "'''\r\n",
        "TRAIN THE MODEL\r\n",
        "'''\r\n",
        "\r\n",
        "iteration_loss = []\r\n",
        "iter = 0\r\n",
        "for epoch in range(num_epochs):\r\n",
        "    for i, (images, labels) in enumerate(train_loader):\r\n",
        "\r\n",
        "        images = images.view(-1, 28*28).to(device)\r\n",
        "        labels = labels.to(device)\r\n",
        "\r\n",
        "        # Clear gradients w.r.t. parameters\r\n",
        "        optimizer.zero_grad()\r\n",
        "\r\n",
        "        # Forward pass to get output/logits\r\n",
        "        logits, probas = model(images) \r\n",
        "\r\n",
        "        # Calculate Loss: PyTorch implementation of CrossEntropyLoss works with logits, not probabilities\r\n",
        "        loss = F.cross_entropy(logits, labels)\r\n",
        "\r\n",
        "        # Getting gradients w.r.t. parameters\r\n",
        "        loss.backward()\r\n",
        "\r\n",
        "        # Updating parameters\r\n",
        "        optimizer.step()\r\n",
        "\r\n",
        "        iter += 1\r\n",
        "\r\n",
        "        if iter % 500 == 0:\r\n",
        "            # Calculate Accuracy         \r\n",
        "            correct = 0\r\n",
        "            total = 0\r\n",
        "            # Iterate through test dataset\r\n",
        "            for images, labels in test_loader:\r\n",
        "               \r\n",
        "                images = images.view(-1, 28*28).to(device)\r\n",
        "\r\n",
        "                # Forward pass only to get logits/output\r\n",
        "                logits, probas = model(images)\r\n",
        "\r\n",
        "                # Get predictions from the maximum value\r\n",
        "                _, predicted = torch.max(probas, 1)\r\n",
        "\r\n",
        "                # Total number of labels\r\n",
        "                total += labels.size(0)\r\n",
        "\r\n",
        "\r\n",
        "                # Total correct predictions\r\n",
        "                if torch.cuda.is_available():\r\n",
        "                    correct += (predicted.cpu() == labels.cpu()).sum() \r\n",
        "                else:\r\n",
        "                    correct += (predicted == labels).sum()\r\n",
        "\r\n",
        "            accuracy = 100 * correct.item() / total\r\n",
        "\r\n",
        "            # Print Loss\r\n",
        "            iteration_loss.append(loss.item())\r\n",
        "            print('Iteration: {}. Loss: {}. Accuracy: {}'.format(iter, loss.item(), accuracy))\r\n",
        "print('Iteration: {}. Loss: {}. Accuracy: {}'.format(iter, loss.item(), accuracy))"
      ],
      "execution_count": null,
      "outputs": []
    },
    {
      "cell_type": "code",
      "metadata": {
        "id": "xc8aiTErsnRZ"
      },
      "source": [
        "print(accuracy)"
      ],
      "execution_count": null,
      "outputs": []
    },
    {
      "cell_type": "markdown",
      "metadata": {
        "id": "2CzgAKmYnoTn"
      },
      "source": [
        "####Plot of predicted and actual values"
      ]
    },
    {
      "cell_type": "code",
      "metadata": {
        "id": "ItwBUA3ts3py"
      },
      "source": [
        "print (iteration_loss)\r\n",
        "plt.plot(iteration_loss)\r\n",
        "plt.ylabel('Cross Entropy Loss')\r\n",
        "plt.xlabel('Iteration (in every 500)')\r\n",
        "plt.show()"
      ],
      "execution_count": null,
      "outputs": []
    },
    {
      "cell_type": "markdown",
      "metadata": {
        "id": "zWtt-ssHnvbi"
      },
      "source": [
        "####Saving Model to Directory"
      ]
    },
    {
      "cell_type": "code",
      "metadata": {
        "id": "gVzfo_HltHNT"
      },
      "source": [
        "if save_model is True:\r\n",
        "    # Saves only parameters\r\n",
        "    # wights & biases\r\n",
        "    torch.save(model.state_dict(), root_path + 'Problem1_setting6.pkl') "
      ],
      "execution_count": null,
      "outputs": []
    },
    {
      "cell_type": "markdown",
      "metadata": {
        "id": "rUVJHlgEn0Bo"
      },
      "source": [
        "####Loading Model:"
      ]
    },
    {
      "cell_type": "code",
      "metadata": {
        "id": "DlsYzQt3tfJE"
      },
      "source": [
        "load_model = True\r\n",
        "\r\n",
        "if load_model is True:\r\n",
        "    model.load_state_dict(torch.load(root_path + 'Problem1_setting6.pkl'))\r\n",
        "    print('Trained Model Loaded')"
      ],
      "execution_count": null,
      "outputs": []
    },
    {
      "cell_type": "code",
      "metadata": {
        "id": "niOewGJTtiwI"
      },
      "source": [
        "for images, labels in test_loader:\r\n",
        "    break\r\n",
        "    \r\n",
        "fig, ax = plt.subplots(1, 5)\r\n",
        "for i in range(5):\r\n",
        "    ax[i].imshow(images[i].view(28, 28), cmap=matplotlib.cm.binary)\r\n",
        "\r\n",
        "plt.show()\r\n",
        "\r\n",
        "_, predictions = model.forward(images[:5].view(-1, 28*28).to(device))\r\n",
        "predictions = torch.argmax(predictions, dim=1)\r\n",
        "print('Predicted labels', predictions.cpu().numpy())\r\n"
      ],
      "execution_count": null,
      "outputs": []
    },
    {
      "cell_type": "markdown",
      "metadata": {
        "id": "_y_8byMku05k"
      },
      "source": [
        "Accuracy:42%"
      ]
    },
    {
      "cell_type": "markdown",
      "metadata": {
        "id": "h7gyEzJq9Bt3"
      },
      "source": [
        "###Setting5 : Accuracy 37%\r\n",
        "\r\n",
        "**batch =64,itr = 12000, lr=0.005**\r\n",
        "\r\n",
        "To train the model againn with this setting, we need to go bach to step 3 and 4. Then in Step 5 will change the setting with the follwing:"
      ]
    },
    {
      "cell_type": "code",
      "metadata": {
        "id": "KSiAD4mbti8b"
      },
      "source": [
        "# Hyperparameters\r\n",
        "\r\n",
        "batch_size = 64\r\n",
        "num_iters = 12000\r\n",
        "input_dim = 28*28 # num_features = 784\r\n",
        "output_dim = 10\r\n",
        "\r\n",
        "learning_rate = 0.005\r\n",
        "# Device\r\n",
        "device = torch.device(\"cuda:0\" if torch.cuda.is_available() else \"cpu\")"
      ],
      "execution_count": null,
      "outputs": []
    },
    {
      "cell_type": "markdown",
      "metadata": {
        "id": "HmDxjOcmnhkG"
      },
      "source": [
        "Now, we have to go to step 6 and then train the model like follwing:"
      ]
    },
    {
      "cell_type": "code",
      "metadata": {
        "id": "1b8FujE7tjAI"
      },
      "source": [
        "num_epochs = num_iters / (len(train_dataset) / batch_size)\r\n",
        "num_epochs = int(num_epochs)\r\n",
        "print(num_epochs)\r\n"
      ],
      "execution_count": null,
      "outputs": []
    },
    {
      "cell_type": "code",
      "metadata": {
        "id": "gWftjNDr9L38"
      },
      "source": [
        "'''\r\n",
        "TRAIN THE MODEL\r\n",
        "'''\r\n",
        "iteration_loss = []\r\n",
        "iter = 0\r\n",
        "for epoch in range(num_epochs):\r\n",
        "    for i, (images, labels) in enumerate(train_loader):\r\n",
        "\r\n",
        "        images = images.view(-1, 28*28).to(device)\r\n",
        "        labels = labels.to(device)\r\n",
        "\r\n",
        "        # Clear gradients w.r.t. parameters\r\n",
        "        optimizer.zero_grad()\r\n",
        "\r\n",
        "        # Forward pass to get output/logits\r\n",
        "        logits, probas = model(images) \r\n",
        "\r\n",
        "        # Calculate Loss: PyTorch implementation of CrossEntropyLoss works with logits, not probabilities\r\n",
        "        loss = F.cross_entropy(logits, labels)\r\n",
        "\r\n",
        "        # Getting gradients w.r.t. parameters\r\n",
        "        loss.backward()\r\n",
        "\r\n",
        "        # Updating parameters\r\n",
        "        optimizer.step()\r\n",
        "\r\n",
        "        iter += 1\r\n",
        "\r\n",
        "        if iter % 500 == 0:\r\n",
        "            # Calculate Accuracy         \r\n",
        "            correct = 0\r\n",
        "            total = 0\r\n",
        "            # Iterate through test dataset\r\n",
        "            for images, labels in test_loader:\r\n",
        "               \r\n",
        "                images = images.view(-1, 28*28).to(device)\r\n",
        "\r\n",
        "                # Forward pass only to get logits/output\r\n",
        "                logits, probas = model(images)\r\n",
        "\r\n",
        "                # Get predictions from the maximum value\r\n",
        "                _, predicted = torch.max(probas, 1)\r\n",
        "\r\n",
        "                # Total number of labels\r\n",
        "                total += labels.size(0)\r\n",
        "\r\n",
        "\r\n",
        "                # Total correct predictions\r\n",
        "                if torch.cuda.is_available():\r\n",
        "                    correct += (predicted.cpu() == labels.cpu()).sum() \r\n",
        "                else:\r\n",
        "                    correct += (predicted == labels).sum()\r\n",
        "\r\n",
        "            accuracy = 100 * correct.item() / total\r\n",
        "\r\n",
        "            # Print Loss\r\n",
        "            iteration_loss.append(loss.item())\r\n",
        "            print('Iteration: {}. Loss: {}. Accuracy: {}'.format(iter, loss.item(), accuracy))"
      ],
      "execution_count": null,
      "outputs": []
    },
    {
      "cell_type": "markdown",
      "metadata": {
        "id": "TB9yiv9qn7Sj"
      },
      "source": [
        "####Plot of predicted and actual values"
      ]
    },
    {
      "cell_type": "code",
      "metadata": {
        "id": "R8Rtbl8S9L_F"
      },
      "source": [
        "print (iteration_loss)\r\n",
        "plt.plot(iteration_loss)\r\n",
        "plt.ylabel('Cross Entropy Loss')\r\n",
        "plt.xlabel('Iteration (in every 500)')\r\n",
        "plt.show()"
      ],
      "execution_count": null,
      "outputs": []
    },
    {
      "cell_type": "markdown",
      "metadata": {
        "id": "iqJnSKIGoFCh"
      },
      "source": [
        "####Saving Model to directory"
      ]
    },
    {
      "cell_type": "code",
      "metadata": {
        "id": "IbiJwdKU9MB3"
      },
      "source": [
        "import pickle\r\n",
        "save_model = True\r\n",
        "\r\n",
        "\r\n",
        "if save_model is True:\r\n",
        "    # Saves only parameters\r\n",
        "    # wights & biases\r\n",
        "    torch.save(model.state_dict(), root_path + 'Problem1_setting9.pkl') "
      ],
      "execution_count": null,
      "outputs": []
    },
    {
      "cell_type": "markdown",
      "metadata": {
        "id": "Eo9uPi4EoIS-"
      },
      "source": [
        "####Loading Model"
      ]
    },
    {
      "cell_type": "code",
      "metadata": {
        "id": "NLK4Z1Iq9MG2"
      },
      "source": [
        "load_model = True\r\n",
        "\r\n",
        "if load_model is True:\r\n",
        "    model.load_state_dict(torch.load(root_path + 'Problem1_setting9.pkl'))\r\n",
        "    print('Trained Model Loaded')"
      ],
      "execution_count": null,
      "outputs": []
    },
    {
      "cell_type": "code",
      "metadata": {
        "id": "jJQurFYQ9MKP"
      },
      "source": [
        "for images, labels in test_loader:\r\n",
        "    break\r\n",
        "    \r\n",
        "fig, ax = plt.subplots(1, 5)\r\n",
        "for i in range(5):\r\n",
        "    ax[i].imshow(images[i].view(28, 28), cmap=matplotlib.cm.binary)\r\n",
        "\r\n",
        "plt.show()\r\n",
        "\r\n",
        "_, predictions = model.forward(images[:5].view(-1, 28*28).to(device))\r\n",
        "predictions = torch.argmax(predictions, dim=1)\r\n",
        "print('Predicted labels', predictions.cpu().numpy())\r\n"
      ],
      "execution_count": null,
      "outputs": []
    },
    {
      "cell_type": "markdown",
      "metadata": {
        "id": "0sve9P-cE9Fp"
      },
      "source": [
        "Accuracy 37%"
      ]
    },
    {
      "cell_type": "markdown",
      "metadata": {
        "id": "PrlsixDYmcno"
      },
      "source": [
        "##Analyzing the Tuning of Hyperparameters:"
      ]
    },
    {
      "cell_type": "markdown",
      "metadata": {
        "id": "vODAjngjmc_q"
      },
      "source": [
        "\r\n",
        "| Setting No.| Batch size | Dataset per batch | Iterations| Epochs| Learning rate    | Accuracy| Model (.pkl)|\r\n",
        "| :-------------: | :----------: | :-----------: | :-------------: | :----------: | :-----------: | :-----------: | :-----------: |\r\n",
        "| 01 | 45 | 1602 |  16010 | 10 | 0.001   | 32%   |Problem1_setting2.pkl|\r\n",
        "| 02 | 32 | 2253 |  26000 | 11 | 0.01    | 35%   |Problem1_setting3.pkl|\r\n",
        "| 03 | 64 | 1127 |  12000 | 10 | 0.05    | 29%   |Problem1_setting8.pkl|\r\n",
        "| 04 | 32 | 2253 |  20000 | 8  | 0.01    | **42%** |Problem1_setting6.pkl|\r\n",
        "| 05 | 64 | 1127 |  12000 | 10 | 0.005   | 37%   |Problem1_setting9.pkl|\r\n",
        "\r\n",
        "\r\n"
      ]
    },
    {
      "cell_type": "markdown",
      "metadata": {
        "id": "dmsfe0semdf1"
      },
      "source": [
        "Here, we can see the best accuracy among 5 settings is 42%. We can analyze this taking each parameter in comparison.\r\n",
        "\r\n",
        "- **Analyzing according to learning rate:**\r\n",
        "\r\n",
        "\r\n",
        "<div align=\"center\">\r\n",
        "<img src=\"https://drive.google.com/uc?id=1yVSA7G6GamscBKufi7xIg7ttd7ue7vQu\" width=\"300\">\r\n",
        "</div>\r\n",
        "\r\n",
        "\r\n",
        "We can see the more learning rate increases, the more accuracy increases. But after some point, accuracy starts to decrease again.\r\n",
        "\r\n",
        "From this it is said that, A **learning rate** that is too **low** will take a long time to converge.Here, with 0.001 , accuracy is 32%. with more epochs and batch size, it may converge to a good result, but take too long time. If **learning rate** is too **large**, so SGD jumps too far and misses the area near local minima. This would be extreme case of \"under-fitting\".  Larning rate should be somewhere in between. For this situtation, it is at **0.01**.\r\n",
        "\r\n",
        "\r\n",
        "- **Analyzing according to epochs:**\r\n",
        "\r\n",
        "<div align=\"center\">\r\n",
        "<img src=\"https://drive.google.com/uc?id=1aR4eGYMlQYDgar-bjs91KCow21cg7XKq\" width=\"300\">\r\n",
        "</div>\r\n",
        "\r\n",
        "In general, the models improve with more epochs of training, to a point. They'll start to plateau in accuracy as they converge. But, here comparing setting 2 and 4, we can see as the epoch increases , accuracy decreases. So, we can say it is dataset dependent. After going to global minima, it starts to decrease again.\r\n",
        "\r\n",
        "\r\n",
        "- **Analyzing according to batch size and iterations:**\r\n",
        "\r\n",
        "\r\n",
        "<div align=\"center\">\r\n",
        "<img src=\"https://drive.google.com/uc?id=1q3EdUZJRpG49RdyWBINHeCOuAyd5Ejzx\" width=\"300\">\r\n",
        "</div>\r\n",
        "\r\n",
        "In general, larger batch sizes result in faster progress in training, but don't always converge as fast. Smaller batch sizes train slower, but can converge faster.  In setting 1 and 5, larger batch size with same epoch (by adjusting iterations) gives better acuracy.But in setting 1 and 3, larger batch size with same epoch (by adjusting iterations) gives lower accyracy. So, it's definitely problem dependent.\r\n",
        "\r\n",
        "\r\n",
        "\r\n",
        "- **Analyzing the graphs of all the settings according to loss functions:**\r\n",
        "\r\n",
        "<div align=\"center\">\r\n",
        "<img src=\"https://drive.google.com/uc?id=1yBcSAPlt5TFtzvOy5EdF_a8z5PAWkZ1w\" width=\"800\">\r\n",
        "</div>\r\n",
        "\r\n"
      ]
    },
    {
      "cell_type": "code",
      "metadata": {
        "colab": {
          "base_uri": "https://localhost:8080/",
          "height": 279
        },
        "id": "Nna3cpb32ZdK",
        "outputId": "64cfc14a-c9ae-4df1-cdc3-48c3b4243fc8"
      },
      "source": [
        "import matplotlib\r\n",
        "import matplotlib.pyplot as plt\r\n",
        "X=[0.001 ,0.005,0.01,0.01,0.05 ]\r\n",
        "Y=[0.32,0.37,0.35,0.42,0.29]\r\n",
        "plt.plot(X,Y)\r\n",
        "plt.ylabel('Accuracy')\r\n",
        "plt.xlabel('Learning Rate')\r\n",
        "plt.show()"
      ],
      "execution_count": null,
      "outputs": [
        {
          "output_type": "display_data",
          "data": {
            "image/png": "[encoded data removed]",
            "text/plain": [
              "<Figure size 432x288 with 1 Axes>"
            ]
          },
          "metadata": {
            "tags": [],
            "needs_background": "light"
          }
        }
      ]
    },
    {
      "cell_type": "code",
      "metadata": {
        "colab": {
          "base_uri": "https://localhost:8080/",
          "height": 279
        },
        "id": "NLYQkrrE-fOU",
        "outputId": "5e75c0f6-8855-4b51-b00c-fccaea274af3"
      },
      "source": [
        "import matplotlib\r\n",
        "import matplotlib.pyplot as plt\r\n",
        "X=[8,10,10,10,11 ]\r\n",
        "Y=[0.42,0.32,0.29,0.37,0.35]\r\n",
        "plt.plot(X,Y)\r\n",
        "plt.ylabel('Accuracy')\r\n",
        "plt.xlabel('Number of Epochs')\r\n",
        "plt.show()"
      ],
      "execution_count": null,
      "outputs": [
        {
          "output_type": "display_data",
          "data": {
            "image/png": "[encoded data removed]",
            "text/plain": [
              "<Figure size 432x288 with 1 Axes>"
            ]
          },
          "metadata": {
            "tags": [],
            "needs_background": "light"
          }
        }
      ]
    },
    {
      "cell_type": "code",
      "metadata": {
        "colab": {
          "base_uri": "https://localhost:8080/",
          "height": 279
        },
        "id": "-Dk89dm7Dwz7",
        "outputId": "42cdb1de-834f-4b40-a3c6-62230aea09f6"
      },
      "source": [
        "import matplotlib\r\n",
        "import matplotlib.pyplot as plt\r\n",
        "X=[32,32,45,64,64 ]\r\n",
        "Y=[0.35,0.42,0.32,0.29,0.37]\r\n",
        "plt.plot(X,Y)\r\n",
        "plt.ylabel('Accuracy')\r\n",
        "plt.xlabel('Batch size')\r\n",
        "plt.show()"
      ],
      "execution_count": null,
      "outputs": [
        {
          "output_type": "display_data",
          "data": {
            "image/png": "[encoded data removed]",
            "text/plain": [
              "<Figure size 432x288 with 1 Axes>"
            ]
          },
          "metadata": {
            "tags": [],
            "needs_background": "light"
          }
        }
      ]
    }
  ]
}